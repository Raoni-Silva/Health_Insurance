{
 "cells": [
  {
   "cell_type": "markdown",
   "metadata": {},
   "source": [
    "# 0.0. Imports"
   ]
  },
  {
   "cell_type": "code",
   "execution_count": 4,
   "metadata": {
    "ExecuteTime": {
     "end_time": "2021-02-28T21:46:05.148491Z",
     "start_time": "2021-02-28T21:46:05.144741Z"
    }
   },
   "outputs": [],
   "source": [
    "import numpy  as np\n",
    "import pandas as pd\n",
    "import boruta as bt\n",
    "import scikitplot as skplt\n",
    "\n",
    "import seaborn as sns\n",
    "\n",
    "from matplotlib import pyplot as plt\n",
    "\n",
    "from sklearn import preprocessing   as pp\n",
    "from sklearn import linear_model    as lm\n",
    "from sklearn import model_selection as ms\n",
    "from sklearn import ensemble        as en\n",
    "from sklearn import neighbors       as nh"
   ]
  },
  {
   "cell_type": "code",
   "execution_count": 5,
   "metadata": {
    "ExecuteTime": {
     "end_time": "2021-02-28T21:46:05.328854Z",
     "start_time": "2021-02-28T21:46:05.326240Z"
    }
   },
   "outputs": [],
   "source": [
    "pd.options.mode.chained_assignment = None  # default='warn'"
   ]
  },
  {
   "cell_type": "markdown",
   "metadata": {},
   "source": [
    "# 0.1. Helper Function"
   ]
  },
  {
   "cell_type": "code",
   "execution_count": 6,
   "metadata": {
    "ExecuteTime": {
     "end_time": "2021-02-28T21:46:06.007779Z",
     "start_time": "2021-02-28T21:46:06.001791Z"
    }
   },
   "outputs": [],
   "source": [
    "def jupyter_settings():\n",
    "    %matplotlib inline\n",
    "    %pylab inline\n",
    "    \n",
    "    plt.style.use( 'bmh' )\n",
    "    plt.rcParams['figure.figsize'] = [25, 12]\n",
    "    plt.rcParams['font.size'] = 24\n",
    "    \n",
    "    display( HTML( '<style>.container { width:100% !important; }</style>') )\n",
    "    pd.options.display.max_columns = None\n",
    "    pd.options.display.max_rows = None\n",
    "    pd.set_option( 'display.expand_frame_repr', False )\n",
    "    \n",
    "    sns.set()"
   ]
  },
  {
   "cell_type": "markdown",
   "metadata": {},
   "source": [
    "# 0.2. Load dataset"
   ]
  },
  {
   "cell_type": "code",
   "execution_count": 15,
   "metadata": {
    "ExecuteTime": {
     "end_time": "2021-02-28T21:54:53.692134Z",
     "start_time": "2021-02-28T21:54:53.689784Z"
    }
   },
   "outputs": [],
   "source": [
    "# Connect database\n",
    "import pandas as pd\n",
    "import psycopg2 as pg"
   ]
  },
  {
   "cell_type": "code",
   "execution_count": 14,
   "metadata": {
    "ExecuteTime": {
     "end_time": "2021-02-28T21:51:53.467277Z",
     "start_time": "2021-02-28T21:51:53.464711Z"
    }
   },
   "outputs": [],
   "source": [
    "HOST = 'comunidade-ds-postgres.c50pcakiuwi3.us-east-1.rds.amazonaws.com'\n",
    "PORT = '5432'\n",
    "DATABASE = 'comunidadedsdb'\n",
    "USER = 'member'\n",
    "PASSWORD ='cdspa'"
   ]
  },
  {
   "cell_type": "code",
   "execution_count": 16,
   "metadata": {
    "ExecuteTime": {
     "end_time": "2021-02-28T21:55:02.385003Z",
     "start_time": "2021-02-28T21:54:58.086079Z"
    }
   },
   "outputs": [],
   "source": [
    "conn = pg.connect( host=HOST,\n",
    "                   database=DATABASE,\n",
    "                   port=PORT,\n",
    "                   user=USER,\n",
    "                   password=PASSWORD )"
   ]
  },
  {
   "cell_type": "code",
   "execution_count": 19,
   "metadata": {
    "ExecuteTime": {
     "end_time": "2021-02-28T22:03:04.709924Z",
     "start_time": "2021-02-28T22:03:04.707561Z"
    }
   },
   "outputs": [],
   "source": [
    "query = \"\"\"\n",
    "    SELECT *\n",
    "    FROM pa004.users u INNER JOIN pa004.vehicle v ON ( u.id = v.id )\n",
    "                       INNER JOIN pa004.insurance i ON ( u.id = i.id )\n",
    "\"\"\""
   ]
  },
  {
   "cell_type": "code",
   "execution_count": 20,
   "metadata": {
    "ExecuteTime": {
     "end_time": "2021-02-28T22:04:02.589613Z",
     "start_time": "2021-02-28T22:03:05.248028Z"
    }
   },
   "outputs": [],
   "source": [
    "#df1 = pd.read_sql( query, conn )"
   ]
  },
  {
   "cell_type": "code",
   "execution_count": 38,
   "metadata": {
    "ExecuteTime": {
     "end_time": "2021-03-01T00:31:43.852997Z",
     "start_time": "2021-03-01T00:31:43.490246Z"
    }
   },
   "outputs": [],
   "source": [
    "df_raw = pd.read_csv( '../data/raw/train.csv' )"
   ]
  },
  {
   "cell_type": "code",
   "execution_count": 39,
   "metadata": {
    "ExecuteTime": {
     "end_time": "2021-03-01T00:31:43.916782Z",
     "start_time": "2021-03-01T00:31:43.904016Z"
    }
   },
   "outputs": [
    {
     "data": {
      "text/html": [
       "<div>\n",
       "<style scoped>\n",
       "    .dataframe tbody tr th:only-of-type {\n",
       "        vertical-align: middle;\n",
       "    }\n",
       "\n",
       "    .dataframe tbody tr th {\n",
       "        vertical-align: top;\n",
       "    }\n",
       "\n",
       "    .dataframe thead th {\n",
       "        text-align: right;\n",
       "    }\n",
       "</style>\n",
       "<table border=\"1\" class=\"dataframe\">\n",
       "  <thead>\n",
       "    <tr style=\"text-align: right;\">\n",
       "      <th></th>\n",
       "      <th>id</th>\n",
       "      <th>Gender</th>\n",
       "      <th>Age</th>\n",
       "      <th>Driving_License</th>\n",
       "      <th>Region_Code</th>\n",
       "      <th>Previously_Insured</th>\n",
       "      <th>Vehicle_Age</th>\n",
       "      <th>Vehicle_Damage</th>\n",
       "      <th>Annual_Premium</th>\n",
       "      <th>Policy_Sales_Channel</th>\n",
       "      <th>Vintage</th>\n",
       "      <th>Response</th>\n",
       "    </tr>\n",
       "  </thead>\n",
       "  <tbody>\n",
       "    <tr>\n",
       "      <th>0</th>\n",
       "      <td>1</td>\n",
       "      <td>Male</td>\n",
       "      <td>44</td>\n",
       "      <td>1</td>\n",
       "      <td>28.0</td>\n",
       "      <td>0</td>\n",
       "      <td>&gt; 2 Years</td>\n",
       "      <td>Yes</td>\n",
       "      <td>40454.0</td>\n",
       "      <td>26.0</td>\n",
       "      <td>217</td>\n",
       "      <td>1</td>\n",
       "    </tr>\n",
       "    <tr>\n",
       "      <th>1</th>\n",
       "      <td>2</td>\n",
       "      <td>Male</td>\n",
       "      <td>76</td>\n",
       "      <td>1</td>\n",
       "      <td>3.0</td>\n",
       "      <td>0</td>\n",
       "      <td>1-2 Year</td>\n",
       "      <td>No</td>\n",
       "      <td>33536.0</td>\n",
       "      <td>26.0</td>\n",
       "      <td>183</td>\n",
       "      <td>0</td>\n",
       "    </tr>\n",
       "    <tr>\n",
       "      <th>2</th>\n",
       "      <td>3</td>\n",
       "      <td>Male</td>\n",
       "      <td>47</td>\n",
       "      <td>1</td>\n",
       "      <td>28.0</td>\n",
       "      <td>0</td>\n",
       "      <td>&gt; 2 Years</td>\n",
       "      <td>Yes</td>\n",
       "      <td>38294.0</td>\n",
       "      <td>26.0</td>\n",
       "      <td>27</td>\n",
       "      <td>1</td>\n",
       "    </tr>\n",
       "    <tr>\n",
       "      <th>3</th>\n",
       "      <td>4</td>\n",
       "      <td>Male</td>\n",
       "      <td>21</td>\n",
       "      <td>1</td>\n",
       "      <td>11.0</td>\n",
       "      <td>1</td>\n",
       "      <td>&lt; 1 Year</td>\n",
       "      <td>No</td>\n",
       "      <td>28619.0</td>\n",
       "      <td>152.0</td>\n",
       "      <td>203</td>\n",
       "      <td>0</td>\n",
       "    </tr>\n",
       "    <tr>\n",
       "      <th>4</th>\n",
       "      <td>5</td>\n",
       "      <td>Female</td>\n",
       "      <td>29</td>\n",
       "      <td>1</td>\n",
       "      <td>41.0</td>\n",
       "      <td>1</td>\n",
       "      <td>&lt; 1 Year</td>\n",
       "      <td>No</td>\n",
       "      <td>27496.0</td>\n",
       "      <td>152.0</td>\n",
       "      <td>39</td>\n",
       "      <td>0</td>\n",
       "    </tr>\n",
       "  </tbody>\n",
       "</table>\n",
       "</div>"
      ],
      "text/plain": [
       "   id  Gender  Age  Driving_License  Region_Code  Previously_Insured  \\\n",
       "0   1    Male   44                1         28.0                   0   \n",
       "1   2    Male   76                1          3.0                   0   \n",
       "2   3    Male   47                1         28.0                   0   \n",
       "3   4    Male   21                1         11.0                   1   \n",
       "4   5  Female   29                1         41.0                   1   \n",
       "\n",
       "  Vehicle_Age Vehicle_Damage  Annual_Premium  Policy_Sales_Channel  Vintage  \\\n",
       "0   > 2 Years            Yes         40454.0                  26.0      217   \n",
       "1    1-2 Year             No         33536.0                  26.0      183   \n",
       "2   > 2 Years            Yes         38294.0                  26.0       27   \n",
       "3    < 1 Year             No         28619.0                 152.0      203   \n",
       "4    < 1 Year             No         27496.0                 152.0       39   \n",
       "\n",
       "   Response  \n",
       "0         1  \n",
       "1         0  \n",
       "2         1  \n",
       "3         0  \n",
       "4         0  "
      ]
     },
     "execution_count": 39,
     "metadata": {},
     "output_type": "execute_result"
    }
   ],
   "source": [
    "df_raw.head()"
   ]
  },
  {
   "cell_type": "markdown",
   "metadata": {},
   "source": [
    "# 1.0. Data Description"
   ]
  },
  {
   "cell_type": "code",
   "execution_count": 40,
   "metadata": {
    "ExecuteTime": {
     "end_time": "2021-03-01T00:31:45.131836Z",
     "start_time": "2021-03-01T00:31:45.105874Z"
    }
   },
   "outputs": [],
   "source": [
    "df1 = df_raw.copy()"
   ]
  },
  {
   "cell_type": "markdown",
   "metadata": {},
   "source": [
    "## 1.1. Rename Columns"
   ]
  },
  {
   "cell_type": "code",
   "execution_count": 41,
   "metadata": {
    "ExecuteTime": {
     "end_time": "2021-03-01T00:31:45.920601Z",
     "start_time": "2021-03-01T00:31:45.917315Z"
    }
   },
   "outputs": [],
   "source": [
    "cols_new = ['id', 'gender', 'age', 'driving_license', 'region_code', 'previously_insured', 'vehicle_age', \n",
    "            'vehicle_damage', 'annual_premium', 'policy_sales_channel', 'vintage', 'response']\n",
    "\n",
    "# rename \n",
    "df1.columns = cols_new"
   ]
  },
  {
   "cell_type": "markdown",
   "metadata": {},
   "source": [
    "## 1.2. Data Dimensions"
   ]
  },
  {
   "cell_type": "code",
   "execution_count": 42,
   "metadata": {
    "ExecuteTime": {
     "end_time": "2021-03-01T00:31:46.537834Z",
     "start_time": "2021-03-01T00:31:46.534811Z"
    }
   },
   "outputs": [
    {
     "name": "stdout",
     "output_type": "stream",
     "text": [
      "Number of Rows: 381109\n",
      "Number of Cols: 12\n"
     ]
    }
   ],
   "source": [
    "print( 'Number of Rows: {}'.format( df1.shape[0] ) )\n",
    "print( 'Number of Cols: {}'.format( df1.shape[1] ) )"
   ]
  },
  {
   "cell_type": "markdown",
   "metadata": {},
   "source": [
    "## 1.3. Data Types"
   ]
  },
  {
   "cell_type": "code",
   "execution_count": 43,
   "metadata": {
    "ExecuteTime": {
     "end_time": "2021-03-01T00:31:46.912681Z",
     "start_time": "2021-03-01T00:31:46.907236Z"
    }
   },
   "outputs": [
    {
     "data": {
      "text/plain": [
       "id                        int64\n",
       "gender                   object\n",
       "age                       int64\n",
       "driving_license           int64\n",
       "region_code             float64\n",
       "previously_insured        int64\n",
       "vehicle_age              object\n",
       "vehicle_damage           object\n",
       "annual_premium          float64\n",
       "policy_sales_channel    float64\n",
       "vintage                   int64\n",
       "response                  int64\n",
       "dtype: object"
      ]
     },
     "execution_count": 43,
     "metadata": {},
     "output_type": "execute_result"
    }
   ],
   "source": [
    "df1.dtypes"
   ]
  },
  {
   "cell_type": "markdown",
   "metadata": {},
   "source": [
    "## 1.4. Check NA"
   ]
  },
  {
   "cell_type": "code",
   "execution_count": 44,
   "metadata": {
    "ExecuteTime": {
     "end_time": "2021-03-01T00:31:47.360405Z",
     "start_time": "2021-03-01T00:31:47.300654Z"
    }
   },
   "outputs": [
    {
     "data": {
      "text/plain": [
       "id                      0\n",
       "gender                  0\n",
       "age                     0\n",
       "driving_license         0\n",
       "region_code             0\n",
       "previously_insured      0\n",
       "vehicle_age             0\n",
       "vehicle_damage          0\n",
       "annual_premium          0\n",
       "policy_sales_channel    0\n",
       "vintage                 0\n",
       "response                0\n",
       "dtype: int64"
      ]
     },
     "execution_count": 44,
     "metadata": {},
     "output_type": "execute_result"
    }
   ],
   "source": [
    "df1.isna().sum()"
   ]
  },
  {
   "cell_type": "markdown",
   "metadata": {},
   "source": [
    "## 1.5. Data Descriptive"
   ]
  },
  {
   "cell_type": "code",
   "execution_count": 45,
   "metadata": {
    "ExecuteTime": {
     "end_time": "2021-03-01T00:31:47.721430Z",
     "start_time": "2021-03-01T00:31:47.682573Z"
    }
   },
   "outputs": [],
   "source": [
    "num_attributes = df1.select_dtypes( include=['int64', 'float64'] )\n",
    "cat_attributes = df1.select_dtypes( exclude=['int64', 'float64', 'datetime64[ns]'])"
   ]
  },
  {
   "cell_type": "markdown",
   "metadata": {},
   "source": [
    "### 1.5.1. Numerical Attributes"
   ]
  },
  {
   "cell_type": "code",
   "execution_count": 46,
   "metadata": {
    "ExecuteTime": {
     "end_time": "2021-03-01T00:31:48.827470Z",
     "start_time": "2021-03-01T00:31:48.053933Z"
    }
   },
   "outputs": [
    {
     "data": {
      "text/html": [
       "<div>\n",
       "<style scoped>\n",
       "    .dataframe tbody tr th:only-of-type {\n",
       "        vertical-align: middle;\n",
       "    }\n",
       "\n",
       "    .dataframe tbody tr th {\n",
       "        vertical-align: top;\n",
       "    }\n",
       "\n",
       "    .dataframe thead th {\n",
       "        text-align: right;\n",
       "    }\n",
       "</style>\n",
       "<table border=\"1\" class=\"dataframe\">\n",
       "  <thead>\n",
       "    <tr style=\"text-align: right;\">\n",
       "      <th></th>\n",
       "      <th>attributes</th>\n",
       "      <th>min</th>\n",
       "      <th>max</th>\n",
       "      <th>range</th>\n",
       "      <th>mean</th>\n",
       "      <th>median</th>\n",
       "      <th>std</th>\n",
       "      <th>skew</th>\n",
       "      <th>kurtosis</th>\n",
       "    </tr>\n",
       "  </thead>\n",
       "  <tbody>\n",
       "    <tr>\n",
       "      <th>0</th>\n",
       "      <td>id</td>\n",
       "      <td>1.0</td>\n",
       "      <td>381109.0</td>\n",
       "      <td>381108.0</td>\n",
       "      <td>190555.000000</td>\n",
       "      <td>190555.0</td>\n",
       "      <td>110016.691870</td>\n",
       "      <td>9.443274e-16</td>\n",
       "      <td>-1.200000</td>\n",
       "    </tr>\n",
       "    <tr>\n",
       "      <th>1</th>\n",
       "      <td>age</td>\n",
       "      <td>20.0</td>\n",
       "      <td>85.0</td>\n",
       "      <td>65.0</td>\n",
       "      <td>38.822584</td>\n",
       "      <td>36.0</td>\n",
       "      <td>15.511591</td>\n",
       "      <td>6.725390e-01</td>\n",
       "      <td>-0.565655</td>\n",
       "    </tr>\n",
       "    <tr>\n",
       "      <th>2</th>\n",
       "      <td>driving_license</td>\n",
       "      <td>0.0</td>\n",
       "      <td>1.0</td>\n",
       "      <td>1.0</td>\n",
       "      <td>0.997869</td>\n",
       "      <td>1.0</td>\n",
       "      <td>0.046109</td>\n",
       "      <td>-2.159518e+01</td>\n",
       "      <td>464.354302</td>\n",
       "    </tr>\n",
       "    <tr>\n",
       "      <th>3</th>\n",
       "      <td>region_code</td>\n",
       "      <td>0.0</td>\n",
       "      <td>52.0</td>\n",
       "      <td>52.0</td>\n",
       "      <td>26.388807</td>\n",
       "      <td>28.0</td>\n",
       "      <td>13.229871</td>\n",
       "      <td>-1.152664e-01</td>\n",
       "      <td>-0.867857</td>\n",
       "    </tr>\n",
       "    <tr>\n",
       "      <th>4</th>\n",
       "      <td>previously_insured</td>\n",
       "      <td>0.0</td>\n",
       "      <td>1.0</td>\n",
       "      <td>1.0</td>\n",
       "      <td>0.458210</td>\n",
       "      <td>0.0</td>\n",
       "      <td>0.498251</td>\n",
       "      <td>1.677471e-01</td>\n",
       "      <td>-1.971871</td>\n",
       "    </tr>\n",
       "    <tr>\n",
       "      <th>5</th>\n",
       "      <td>annual_premium</td>\n",
       "      <td>2630.0</td>\n",
       "      <td>540165.0</td>\n",
       "      <td>537535.0</td>\n",
       "      <td>30564.389581</td>\n",
       "      <td>31669.0</td>\n",
       "      <td>17213.132474</td>\n",
       "      <td>1.766087e+00</td>\n",
       "      <td>34.004569</td>\n",
       "    </tr>\n",
       "    <tr>\n",
       "      <th>6</th>\n",
       "      <td>policy_sales_channel</td>\n",
       "      <td>1.0</td>\n",
       "      <td>163.0</td>\n",
       "      <td>162.0</td>\n",
       "      <td>112.034295</td>\n",
       "      <td>133.0</td>\n",
       "      <td>54.203924</td>\n",
       "      <td>-9.000081e-01</td>\n",
       "      <td>-0.970810</td>\n",
       "    </tr>\n",
       "    <tr>\n",
       "      <th>7</th>\n",
       "      <td>vintage</td>\n",
       "      <td>10.0</td>\n",
       "      <td>299.0</td>\n",
       "      <td>289.0</td>\n",
       "      <td>154.347397</td>\n",
       "      <td>154.0</td>\n",
       "      <td>83.671194</td>\n",
       "      <td>3.029517e-03</td>\n",
       "      <td>-1.200688</td>\n",
       "    </tr>\n",
       "    <tr>\n",
       "      <th>8</th>\n",
       "      <td>response</td>\n",
       "      <td>0.0</td>\n",
       "      <td>1.0</td>\n",
       "      <td>1.0</td>\n",
       "      <td>0.122563</td>\n",
       "      <td>0.0</td>\n",
       "      <td>0.327935</td>\n",
       "      <td>2.301906e+00</td>\n",
       "      <td>3.298788</td>\n",
       "    </tr>\n",
       "  </tbody>\n",
       "</table>\n",
       "</div>"
      ],
      "text/plain": [
       "             attributes     min       max     range           mean    median  \\\n",
       "0                    id     1.0  381109.0  381108.0  190555.000000  190555.0   \n",
       "1                   age    20.0      85.0      65.0      38.822584      36.0   \n",
       "2       driving_license     0.0       1.0       1.0       0.997869       1.0   \n",
       "3           region_code     0.0      52.0      52.0      26.388807      28.0   \n",
       "4    previously_insured     0.0       1.0       1.0       0.458210       0.0   \n",
       "5        annual_premium  2630.0  540165.0  537535.0   30564.389581   31669.0   \n",
       "6  policy_sales_channel     1.0     163.0     162.0     112.034295     133.0   \n",
       "7               vintage    10.0     299.0     289.0     154.347397     154.0   \n",
       "8              response     0.0       1.0       1.0       0.122563       0.0   \n",
       "\n",
       "             std          skew    kurtosis  \n",
       "0  110016.691870  9.443274e-16   -1.200000  \n",
       "1      15.511591  6.725390e-01   -0.565655  \n",
       "2       0.046109 -2.159518e+01  464.354302  \n",
       "3      13.229871 -1.152664e-01   -0.867857  \n",
       "4       0.498251  1.677471e-01   -1.971871  \n",
       "5   17213.132474  1.766087e+00   34.004569  \n",
       "6      54.203924 -9.000081e-01   -0.970810  \n",
       "7      83.671194  3.029517e-03   -1.200688  \n",
       "8       0.327935  2.301906e+00    3.298788  "
      ]
     },
     "execution_count": 46,
     "metadata": {},
     "output_type": "execute_result"
    }
   ],
   "source": [
    "# Central Tendency - Mean, Median\n",
    "ct1 = pd.DataFrame( num_attributes.apply( np.mean ) ).T\n",
    "ct2 = pd.DataFrame( num_attributes.apply( np.median ) ).T\n",
    "\n",
    "# dispersion - std, min, max, range, skew, kurtosis\n",
    "d1 = pd.DataFrame( num_attributes.apply( np.std ) ).T \n",
    "d2 = pd.DataFrame( num_attributes.apply( min ) ).T \n",
    "d3 = pd.DataFrame( num_attributes.apply( max ) ).T \n",
    "d4 = pd.DataFrame( num_attributes.apply( lambda x: x.max() - x.min() ) ).T \n",
    "d5 = pd.DataFrame( num_attributes.apply( lambda x: x.skew() ) ).T \n",
    "d6 = pd.DataFrame( num_attributes.apply( lambda x: x.kurtosis() ) ).T \n",
    "\n",
    "# concatenar\n",
    "m = pd.concat( [d2, d3, d4, ct1, ct2, d1, d5, d6] ).T.reset_index()\n",
    "m.columns = ['attributes', 'min', 'max', 'range', 'mean', 'median', 'std', 'skew', 'kurtosis']\n",
    "m"
   ]
  },
  {
   "cell_type": "markdown",
   "metadata": {},
   "source": [
    "# 2.0. Feature Engineering"
   ]
  },
  {
   "cell_type": "code",
   "execution_count": 47,
   "metadata": {
    "ExecuteTime": {
     "end_time": "2021-03-01T00:31:49.067292Z",
     "start_time": "2021-03-01T00:31:48.829376Z"
    }
   },
   "outputs": [],
   "source": [
    "df2 = df1.copy()\n",
    "\n",
    "# Vehicle Damage Number\n",
    "df2['vehicle_damage'] = df2['vehicle_damage'].apply( lambda x: 1 if x == 'Yes' else 0 )\n",
    "\n",
    "# Vehicle Age\n",
    "df2['vehicle_age'] =  df2['vehicle_age'].apply( lambda x: 'over_2_years' if x == '> 2 Years' else 'between_1_2_year' if x == '1-2 Year' else 'below_1_year' )"
   ]
  },
  {
   "cell_type": "code",
   "execution_count": null,
   "metadata": {},
   "outputs": [],
   "source": []
  },
  {
   "cell_type": "markdown",
   "metadata": {},
   "source": [
    "# 3.0. Data Filtering"
   ]
  },
  {
   "cell_type": "code",
   "execution_count": 48,
   "metadata": {
    "ExecuteTime": {
     "end_time": "2021-03-01T00:31:49.088687Z",
     "start_time": "2021-03-01T00:31:49.069642Z"
    }
   },
   "outputs": [],
   "source": [
    "df3 = df2.copy()"
   ]
  },
  {
   "cell_type": "markdown",
   "metadata": {},
   "source": [
    "# 4.0. Exploratoria Data Analysis"
   ]
  },
  {
   "cell_type": "code",
   "execution_count": 49,
   "metadata": {
    "ExecuteTime": {
     "end_time": "2021-03-01T00:31:49.436864Z",
     "start_time": "2021-03-01T00:31:49.413791Z"
    }
   },
   "outputs": [],
   "source": [
    "df4 = df3.copy()"
   ]
  },
  {
   "cell_type": "markdown",
   "metadata": {
    "ExecuteTime": {
     "end_time": "2021-01-31T00:36:43.440441Z",
     "start_time": "2021-01-31T00:36:43.438661Z"
    }
   },
   "source": [
    "## 4.1. Univariate Analysis"
   ]
  },
  {
   "cell_type": "markdown",
   "metadata": {
    "ExecuteTime": {
     "end_time": "2021-01-31T00:36:43.440441Z",
     "start_time": "2021-01-31T00:36:43.438661Z"
    }
   },
   "source": [
    "### 4.1.1. Age"
   ]
  },
  {
   "cell_type": "code",
   "execution_count": 50,
   "metadata": {
    "ExecuteTime": {
     "end_time": "2021-03-01T00:31:50.256190Z",
     "start_time": "2021-03-01T00:31:50.012395Z"
    }
   },
   "outputs": [
    {
     "data": {
      "text/plain": [
       "<AxesSubplot:xlabel='response', ylabel='age'>"
      ]
     },
     "execution_count": 50,
     "metadata": {},
     "output_type": "execute_result"
    },
    {
     "data": {
      "image/png": "[encoded data removed]",
      "text/plain": [
       "<Figure size 432x288 with 1 Axes>"
      ]
     },
     "metadata": {
      "needs_background": "light"
     },
     "output_type": "display_data"
    }
   ],
   "source": [
    "sns.boxplot( x='response', y='age', data=df4 )"
   ]
  },
  {
   "cell_type": "code",
   "execution_count": 51,
   "metadata": {
    "ExecuteTime": {
     "end_time": "2021-03-01T00:31:50.831165Z",
     "start_time": "2021-03-01T00:31:50.258400Z"
    },
    "cell_style": "split"
   },
   "outputs": [
    {
     "data": {
      "text/plain": [
       "<AxesSubplot:xlabel='age', ylabel='Count'>"
      ]
     },
     "execution_count": 51,
     "metadata": {},
     "output_type": "execute_result"
    },
    {
     "data": {
      "image/png": "[encoded data removed]",
      "text/plain": [
       "<Figure size 432x288 with 1 Axes>"
      ]
     },
     "metadata": {
      "needs_background": "light"
     },
     "output_type": "display_data"
    }
   ],
   "source": [
    "aux00 = df4.loc[df4['response'] == 0, 'age']\n",
    "sns.histplot( aux00 )"
   ]
  },
  {
   "cell_type": "code",
   "execution_count": 52,
   "metadata": {
    "ExecuteTime": {
     "end_time": "2021-03-01T00:31:51.148559Z",
     "start_time": "2021-03-01T00:31:50.833299Z"
    },
    "cell_style": "split"
   },
   "outputs": [
    {
     "data": {
      "text/plain": [
       "<AxesSubplot:xlabel='age', ylabel='Count'>"
      ]
     },
     "execution_count": 52,
     "metadata": {},
     "output_type": "execute_result"
    },
    {
     "data": {
      "image/png": "[encoded data removed]",
      "text/plain": [
       "<Figure size 432x288 with 1 Axes>"
      ]
     },
     "metadata": {
      "needs_background": "light"
     },
     "output_type": "display_data"
    }
   ],
   "source": [
    "aux00 = df4.loc[df4['response'] == 1, 'age']\n",
    "sns.histplot( aux00 )"
   ]
  },
  {
   "cell_type": "markdown",
   "metadata": {
    "ExecuteTime": {
     "end_time": "2021-01-31T00:36:43.440441Z",
     "start_time": "2021-01-31T00:36:43.438661Z"
    }
   },
   "source": [
    "### 4.1.2. Anual Income"
   ]
  },
  {
   "cell_type": "code",
   "execution_count": 53,
   "metadata": {
    "ExecuteTime": {
     "end_time": "2021-03-01T00:31:51.345732Z",
     "start_time": "2021-03-01T00:31:51.150765Z"
    }
   },
   "outputs": [
    {
     "data": {
      "text/plain": [
       "<AxesSubplot:xlabel='response', ylabel='annual_premium'>"
      ]
     },
     "execution_count": 53,
     "metadata": {},
     "output_type": "execute_result"
    },
    {
     "data": {
      "image/png": "[encoded data removed]",
      "text/plain": [
       "<Figure size 432x288 with 1 Axes>"
      ]
     },
     "metadata": {
      "needs_background": "light"
     },
     "output_type": "display_data"
    }
   ],
   "source": [
    "sns.boxplot( x='response', y='annual_premium', data=df4 )"
   ]
  },
  {
   "cell_type": "code",
   "execution_count": 54,
   "metadata": {
    "ExecuteTime": {
     "end_time": "2021-03-01T00:31:51.404916Z",
     "start_time": "2021-03-01T00:31:51.347569Z"
    }
   },
   "outputs": [],
   "source": [
    "df4 = df4[(df4['annual_premium'] > 10000) &(df4['annual_premium'] < 100000)]"
   ]
  },
  {
   "cell_type": "code",
   "execution_count": 55,
   "metadata": {
    "ExecuteTime": {
     "end_time": "2021-03-01T00:31:52.044125Z",
     "start_time": "2021-03-01T00:31:51.407431Z"
    },
    "cell_style": "split"
   },
   "outputs": [
    {
     "data": {
      "image/png": "[encoded data removed]",
      "text/plain": [
       "<Figure size 432x288 with 1 Axes>"
      ]
     },
     "metadata": {
      "needs_background": "light"
     },
     "output_type": "display_data"
    }
   ],
   "source": [
    "aux00 = df4.loc[df4['response'] == 0, 'annual_premium']\n",
    "sns.histplot( aux00 );"
   ]
  },
  {
   "cell_type": "code",
   "execution_count": 56,
   "metadata": {
    "ExecuteTime": {
     "end_time": "2021-03-01T00:31:52.395833Z",
     "start_time": "2021-03-01T00:31:52.046523Z"
    },
    "cell_style": "split"
   },
   "outputs": [
    {
     "data": {
      "image/png": "[encoded data removed]",
      "text/plain": [
       "<Figure size 432x288 with 1 Axes>"
      ]
     },
     "metadata": {
      "needs_background": "light"
     },
     "output_type": "display_data"
    }
   ],
   "source": [
    "aux00 = df4.loc[df4['response'] == 1, 'annual_premium']\n",
    "sns.histplot( aux00 );"
   ]
  },
  {
   "cell_type": "markdown",
   "metadata": {
    "ExecuteTime": {
     "end_time": "2021-01-31T00:36:43.440441Z",
     "start_time": "2021-01-31T00:36:43.438661Z"
    }
   },
   "source": [
    "### 4.1.3. Driving License"
   ]
  },
  {
   "cell_type": "code",
   "execution_count": 57,
   "metadata": {
    "ExecuteTime": {
     "end_time": "2021-03-01T00:31:52.538771Z",
     "start_time": "2021-03-01T00:31:52.397818Z"
    }
   },
   "outputs": [
    {
     "data": {
      "image/png": "[encoded data removed]",
      "text/plain": [
       "<Figure size 432x288 with 1 Axes>"
      ]
     },
     "metadata": {
      "needs_background": "light"
     },
     "output_type": "display_data"
    }
   ],
   "source": [
    "aux = df4[['driving_license', 'response']].groupby( 'response' ).sum().reset_index()\n",
    "sns.barplot( x='response', y='driving_license', data=aux );"
   ]
  },
  {
   "cell_type": "markdown",
   "metadata": {},
   "source": [
    "### 4.1.4. Region Code"
   ]
  },
  {
   "cell_type": "code",
   "execution_count": 58,
   "metadata": {
    "ExecuteTime": {
     "end_time": "2021-03-01T00:31:52.832800Z",
     "start_time": "2021-03-01T00:31:52.541618Z"
    }
   },
   "outputs": [
    {
     "data": {
      "text/plain": [
       "<AxesSubplot:xlabel='region_code', ylabel='id'>"
      ]
     },
     "execution_count": 58,
     "metadata": {},
     "output_type": "execute_result"
    },
    {
     "data": {
      "image/png": "[encoded data removed]",
      "text/plain": [
       "<Figure size 432x288 with 1 Axes>"
      ]
     },
     "metadata": {
      "needs_background": "light"
     },
     "output_type": "display_data"
    }
   ],
   "source": [
    "aux0 = df4[['id', 'region_code', 'response']].groupby( ['region_code', 'response'] ).count().reset_index()\n",
    "#aux0 = aux0[(aux0['id'] > 1000) & (aux0['id'] < 20000)]\n",
    "\n",
    "sns.scatterplot( x='region_code', y='id', hue='response', data=aux0 )"
   ]
  },
  {
   "cell_type": "markdown",
   "metadata": {},
   "source": [
    "### 4.1.5. Previously Insured"
   ]
  },
  {
   "cell_type": "code",
   "execution_count": 59,
   "metadata": {
    "ExecuteTime": {
     "end_time": "2021-03-01T00:31:53.177352Z",
     "start_time": "2021-03-01T00:31:52.834977Z"
    },
    "cell_style": "split"
   },
   "outputs": [
    {
     "data": {
      "text/plain": [
       "<AxesSubplot:xlabel='previously_insured', ylabel='id'>"
      ]
     },
     "execution_count": 59,
     "metadata": {},
     "output_type": "execute_result"
    },
    {
     "data": {
      "image/png": "[encoded data removed]",
      "text/plain": [
       "<Figure size 432x288 with 1 Axes>"
      ]
     },
     "metadata": {
      "needs_background": "light"
     },
     "output_type": "display_data"
    }
   ],
   "source": [
    "aux0 = df4[['id', 'previously_insured', 'response']].groupby( ['previously_insured', 'response'] ).count().reset_index()\n",
    "#aux0 = aux0[(aux0['id'] > 1000) & (aux0['id'] < 20000)]\n",
    "\n",
    "sns.scatterplot( x='previously_insured', y='id', hue='response', data=aux0 )"
   ]
  },
  {
   "cell_type": "code",
   "execution_count": 60,
   "metadata": {
    "ExecuteTime": {
     "end_time": "2021-03-01T00:31:53.249716Z",
     "start_time": "2021-03-01T00:31:53.179862Z"
    },
    "cell_style": "split"
   },
   "outputs": [
    {
     "data": {
      "text/html": [
       "<div>\n",
       "<style scoped>\n",
       "    .dataframe tbody tr th:only-of-type {\n",
       "        vertical-align: middle;\n",
       "    }\n",
       "\n",
       "    .dataframe tbody tr th {\n",
       "        vertical-align: top;\n",
       "    }\n",
       "\n",
       "    .dataframe thead th {\n",
       "        text-align: right;\n",
       "    }\n",
       "</style>\n",
       "<table border=\"1\" class=\"dataframe\">\n",
       "  <thead>\n",
       "    <tr style=\"text-align: right;\">\n",
       "      <th>response</th>\n",
       "      <th>0</th>\n",
       "      <th>1</th>\n",
       "    </tr>\n",
       "    <tr>\n",
       "      <th>previously_insured</th>\n",
       "      <th></th>\n",
       "      <th></th>\n",
       "    </tr>\n",
       "  </thead>\n",
       "  <tbody>\n",
       "    <tr>\n",
       "      <th>0</th>\n",
       "      <td>0.769438</td>\n",
       "      <td>0.230562</td>\n",
       "    </tr>\n",
       "    <tr>\n",
       "      <th>1</th>\n",
       "      <td>0.999191</td>\n",
       "      <td>0.000809</td>\n",
       "    </tr>\n",
       "  </tbody>\n",
       "</table>\n",
       "</div>"
      ],
      "text/plain": [
       "response                   0         1\n",
       "previously_insured                    \n",
       "0                   0.769438  0.230562\n",
       "1                   0.999191  0.000809"
      ]
     },
     "execution_count": 60,
     "metadata": {},
     "output_type": "execute_result"
    }
   ],
   "source": [
    "pd.crosstab(df4['previously_insured'], df4['response'] ).apply( lambda x: x / x.sum(), axis=1 )"
   ]
  },
  {
   "cell_type": "markdown",
   "metadata": {},
   "source": [
    "### 4.1.6. Vehicle Age"
   ]
  },
  {
   "cell_type": "code",
   "execution_count": 61,
   "metadata": {
    "ExecuteTime": {
     "end_time": "2021-03-01T00:31:53.299304Z",
     "start_time": "2021-03-01T00:31:53.251887Z"
    }
   },
   "outputs": [
    {
     "data": {
      "text/html": [
       "<div>\n",
       "<style scoped>\n",
       "    .dataframe tbody tr th:only-of-type {\n",
       "        vertical-align: middle;\n",
       "    }\n",
       "\n",
       "    .dataframe tbody tr th {\n",
       "        vertical-align: top;\n",
       "    }\n",
       "\n",
       "    .dataframe thead th {\n",
       "        text-align: right;\n",
       "    }\n",
       "</style>\n",
       "<table border=\"1\" class=\"dataframe\">\n",
       "  <thead>\n",
       "    <tr style=\"text-align: right;\">\n",
       "      <th></th>\n",
       "      <th>vehicle_age</th>\n",
       "      <th>response</th>\n",
       "      <th>id</th>\n",
       "    </tr>\n",
       "  </thead>\n",
       "  <tbody>\n",
       "    <tr>\n",
       "      <th>0</th>\n",
       "      <td>below_1_year</td>\n",
       "      <td>0</td>\n",
       "      <td>137861</td>\n",
       "    </tr>\n",
       "    <tr>\n",
       "      <th>1</th>\n",
       "      <td>below_1_year</td>\n",
       "      <td>1</td>\n",
       "      <td>5994</td>\n",
       "    </tr>\n",
       "    <tr>\n",
       "      <th>2</th>\n",
       "      <td>between_1_2_year</td>\n",
       "      <td>0</td>\n",
       "      <td>130381</td>\n",
       "    </tr>\n",
       "    <tr>\n",
       "      <th>3</th>\n",
       "      <td>between_1_2_year</td>\n",
       "      <td>1</td>\n",
       "      <td>28017</td>\n",
       "    </tr>\n",
       "    <tr>\n",
       "      <th>4</th>\n",
       "      <td>over_2_years</td>\n",
       "      <td>0</td>\n",
       "      <td>9126</td>\n",
       "    </tr>\n",
       "    <tr>\n",
       "      <th>5</th>\n",
       "      <td>over_2_years</td>\n",
       "      <td>1</td>\n",
       "      <td>4070</td>\n",
       "    </tr>\n",
       "  </tbody>\n",
       "</table>\n",
       "</div>"
      ],
      "text/plain": [
       "        vehicle_age  response      id\n",
       "0      below_1_year         0  137861\n",
       "1      below_1_year         1    5994\n",
       "2  between_1_2_year         0  130381\n",
       "3  between_1_2_year         1   28017\n",
       "4      over_2_years         0    9126\n",
       "5      over_2_years         1    4070"
      ]
     },
     "execution_count": 61,
     "metadata": {},
     "output_type": "execute_result"
    }
   ],
   "source": [
    "df4[['id','vehicle_age', 'response']].groupby( ['vehicle_age', 'response'] ).count().reset_index()"
   ]
  },
  {
   "cell_type": "markdown",
   "metadata": {},
   "source": [
    "### 4.1.7. Vehicle Damage"
   ]
  },
  {
   "cell_type": "code",
   "execution_count": 62,
   "metadata": {
    "ExecuteTime": {
     "end_time": "2021-03-01T00:31:53.807350Z",
     "start_time": "2021-03-01T00:31:53.667150Z"
    }
   },
   "outputs": [
    {
     "data": {
      "image/png": "[encoded data removed]",
      "text/plain": [
       "<Figure size 432x288 with 1 Axes>"
      ]
     },
     "metadata": {
      "needs_background": "light"
     },
     "output_type": "display_data"
    }
   ],
   "source": [
    "aux = df4[['vehicle_damage', 'response']].groupby( 'response' ).sum().reset_index()\n",
    "sns.barplot( x='response', y='vehicle_damage', data=aux );"
   ]
  },
  {
   "cell_type": "markdown",
   "metadata": {},
   "source": [
    "### 4.1.8. Policy Sales Channel - Stacked Percentage Bar"
   ]
  },
  {
   "cell_type": "code",
   "execution_count": 63,
   "metadata": {
    "ExecuteTime": {
     "end_time": "2021-03-01T00:31:54.526171Z",
     "start_time": "2021-03-01T00:31:54.522492Z"
    }
   },
   "outputs": [
    {
     "ename": "SyntaxError",
     "evalue": "invalid syntax (<ipython-input-63-a40c3dfd0116>, line 2)",
     "output_type": "error",
     "traceback": [
      "\u001b[0;36m  File \u001b[0;32m\"<ipython-input-63-a40c3dfd0116>\"\u001b[0;36m, line \u001b[0;32m2\u001b[0m\n\u001b[0;31m    sns.( x='response', y='policy_sales_channel', data=aux );\u001b[0m\n\u001b[0m        ^\u001b[0m\n\u001b[0;31mSyntaxError\u001b[0m\u001b[0;31m:\u001b[0m invalid syntax\n"
     ]
    }
   ],
   "source": [
    "aux = df4[['policy_sales_channel', 'response']].groupby( 'policy_sales_channel' ).sum().reset_index()\n",
    "sns.( x='response', y='policy_sales_channel', data=aux );"
   ]
  },
  {
   "cell_type": "code",
   "execution_count": 64,
   "metadata": {
    "ExecuteTime": {
     "end_time": "2021-03-01T00:31:54.759167Z",
     "start_time": "2021-03-01T00:31:54.723867Z"
    }
   },
   "outputs": [
    {
     "data": {
      "text/html": [
       "<div>\n",
       "<style scoped>\n",
       "    .dataframe tbody tr th:only-of-type {\n",
       "        vertical-align: middle;\n",
       "    }\n",
       "\n",
       "    .dataframe tbody tr th {\n",
       "        vertical-align: top;\n",
       "    }\n",
       "\n",
       "    .dataframe thead th {\n",
       "        text-align: right;\n",
       "    }\n",
       "</style>\n",
       "<table border=\"1\" class=\"dataframe\">\n",
       "  <thead>\n",
       "    <tr style=\"text-align: right;\">\n",
       "      <th></th>\n",
       "      <th>policy_sales_channel</th>\n",
       "      <th>response</th>\n",
       "      <th>total_responses</th>\n",
       "    </tr>\n",
       "  </thead>\n",
       "  <tbody>\n",
       "    <tr>\n",
       "      <th>0</th>\n",
       "      <td>1.0</td>\n",
       "      <td>0</td>\n",
       "      <td>10</td>\n",
       "    </tr>\n",
       "    <tr>\n",
       "      <th>1</th>\n",
       "      <td>2.0</td>\n",
       "      <td>0</td>\n",
       "      <td>1</td>\n",
       "    </tr>\n",
       "    <tr>\n",
       "      <th>2</th>\n",
       "      <td>3.0</td>\n",
       "      <td>136</td>\n",
       "      <td>434</td>\n",
       "    </tr>\n",
       "    <tr>\n",
       "      <th>3</th>\n",
       "      <td>4.0</td>\n",
       "      <td>90</td>\n",
       "      <td>442</td>\n",
       "    </tr>\n",
       "    <tr>\n",
       "      <th>4</th>\n",
       "      <td>6.0</td>\n",
       "      <td>0</td>\n",
       "      <td>2</td>\n",
       "    </tr>\n",
       "  </tbody>\n",
       "</table>\n",
       "</div>"
      ],
      "text/plain": [
       "   policy_sales_channel  response  total_responses\n",
       "0                   1.0         0               10\n",
       "1                   2.0         0                1\n",
       "2                   3.0       136              434\n",
       "3                   4.0        90              442\n",
       "4                   6.0         0                2"
      ]
     },
     "execution_count": 64,
     "metadata": {},
     "output_type": "execute_result"
    }
   ],
   "source": [
    "aux01 = df4[['policy_sales_channel', 'response']].groupby( 'policy_sales_channel' ).sum().reset_index()\n",
    "aux02 = df4[['id', 'policy_sales_channel']].groupby( 'policy_sales_channel' ).size().reset_index().rename( columns={0:'total_responses'})\n",
    "\n",
    "aux = pd.merge( aux01, aux02, how='inner', on='policy_sales_channel' )\n",
    "aux.head()"
   ]
  },
  {
   "cell_type": "markdown",
   "metadata": {},
   "source": [
    "### 4.1.9. Vintage"
   ]
  },
  {
   "cell_type": "code",
   "execution_count": 65,
   "metadata": {
    "ExecuteTime": {
     "end_time": "2021-03-01T00:31:57.792341Z",
     "start_time": "2021-03-01T00:31:57.447143Z"
    },
    "cell_style": "split"
   },
   "outputs": [
    {
     "data": {
      "text/plain": [
       "<AxesSubplot:xlabel='vintage', ylabel='Count'>"
      ]
     },
     "execution_count": 65,
     "metadata": {},
     "output_type": "execute_result"
    },
    {
     "data": {
      "image/png": "[encoded data removed]",
      "text/plain": [
       "<Figure size 432x288 with 1 Axes>"
      ]
     },
     "metadata": {
      "needs_background": "light"
     },
     "output_type": "display_data"
    }
   ],
   "source": [
    "aux = df4.loc[df4['response'] == 0, 'vintage']\n",
    "sns.histplot( aux )"
   ]
  },
  {
   "cell_type": "code",
   "execution_count": 66,
   "metadata": {
    "ExecuteTime": {
     "end_time": "2021-03-01T00:31:58.040435Z",
     "start_time": "2021-03-01T00:31:57.794242Z"
    },
    "cell_style": "split"
   },
   "outputs": [
    {
     "data": {
      "text/plain": [
       "<AxesSubplot:xlabel='vintage', ylabel='Count'>"
      ]
     },
     "execution_count": 66,
     "metadata": {},
     "output_type": "execute_result"
    },
    {
     "data": {
      "image/png": "[encoded data removed]",
      "text/plain": [
       "<Figure size 432x288 with 1 Axes>"
      ]
     },
     "metadata": {
      "needs_background": "light"
     },
     "output_type": "display_data"
    }
   ],
   "source": [
    "aux = df4.loc[df4['response'] == 1, 'vintage']\n",
    "sns.histplot( aux )"
   ]
  },
  {
   "cell_type": "code",
   "execution_count": 67,
   "metadata": {
    "ExecuteTime": {
     "end_time": "2021-03-01T00:31:58.054221Z",
     "start_time": "2021-03-01T00:31:58.042944Z"
    }
   },
   "outputs": [
    {
     "ename": "NameError",
     "evalue": "name 'df5' is not defined",
     "output_type": "error",
     "traceback": [
      "\u001b[0;31m---------------------------------------------------------------------------\u001b[0m",
      "\u001b[0;31mNameError\u001b[0m                                 Traceback (most recent call last)",
      "\u001b[0;32m<ipython-input-67-84688013243e>\u001b[0m in \u001b[0;36m<module>\u001b[0;34m\u001b[0m\n\u001b[0;32m----> 1\u001b[0;31m \u001b[0mdf\u001b[0m \u001b[0;34m=\u001b[0m \u001b[0mpd\u001b[0m\u001b[0;34m.\u001b[0m\u001b[0mpivot_table\u001b[0m\u001b[0;34m(\u001b[0m \u001b[0mindex\u001b[0m\u001b[0;34m=\u001b[0m\u001b[0;34m'vintage'\u001b[0m\u001b[0;34m,\u001b[0m \u001b[0mcolumns\u001b[0m\u001b[0;34m=\u001b[0m\u001b[0;34m'response'\u001b[0m\u001b[0;34m,\u001b[0m \u001b[0mvalues\u001b[0m\u001b[0;34m=\u001b[0m\u001b[0;34m'id'\u001b[0m\u001b[0;34m,\u001b[0m \u001b[0mdata\u001b[0m\u001b[0;34m=\u001b[0m\u001b[0mdf5\u001b[0m\u001b[0;34m)\u001b[0m\u001b[0;34m.\u001b[0m\u001b[0mreset_index\u001b[0m\u001b[0;34m(\u001b[0m\u001b[0;34m)\u001b[0m\u001b[0;34m\u001b[0m\u001b[0;34m\u001b[0m\u001b[0m\n\u001b[0m\u001b[1;32m      2\u001b[0m \u001b[0mdf\u001b[0m\u001b[0;34m.\u001b[0m\u001b[0mcolumns\u001b[0m \u001b[0;34m=\u001b[0m \u001b[0;34m[\u001b[0m\u001b[0;34m'vintage'\u001b[0m\u001b[0;34m,\u001b[0m \u001b[0;34m'no_response'\u001b[0m\u001b[0;34m,\u001b[0m \u001b[0;34m'yes_response'\u001b[0m\u001b[0;34m]\u001b[0m\u001b[0;34m\u001b[0m\u001b[0;34m\u001b[0m\u001b[0m\n",
      "\u001b[0;31mNameError\u001b[0m: name 'df5' is not defined"
     ]
    }
   ],
   "source": [
    "df = pd.pivot_table( index='vintage', columns='response', values='id', data=df5).reset_index()\n",
    "df.columns = ['vintage', 'no_response', 'yes_response']"
   ]
  },
  {
   "cell_type": "code",
   "execution_count": 68,
   "metadata": {
    "ExecuteTime": {
     "end_time": "2021-03-01T00:31:58.197834Z",
     "start_time": "2021-03-01T00:31:58.189546Z"
    }
   },
   "outputs": [
    {
     "ename": "NameError",
     "evalue": "name 'df' is not defined",
     "output_type": "error",
     "traceback": [
      "\u001b[0;31m---------------------------------------------------------------------------\u001b[0m",
      "\u001b[0;31mNameError\u001b[0m                                 Traceback (most recent call last)",
      "\u001b[0;32m<ipython-input-68-0d7691288458>\u001b[0m in \u001b[0;36m<module>\u001b[0;34m\u001b[0m\n\u001b[0;32m----> 1\u001b[0;31m \u001b[0mdf\u001b[0m\u001b[0;34m.\u001b[0m\u001b[0mplot\u001b[0m\u001b[0;34m(\u001b[0m \u001b[0mx\u001b[0m\u001b[0;34m=\u001b[0m\u001b[0;34m'vintage'\u001b[0m\u001b[0;34m,\u001b[0m \u001b[0mkind\u001b[0m\u001b[0;34m=\u001b[0m\u001b[0;34m'bar'\u001b[0m\u001b[0;34m,\u001b[0m \u001b[0mstacked\u001b[0m\u001b[0;34m=\u001b[0m\u001b[0;32mTrue\u001b[0m\u001b[0;34m)\u001b[0m\u001b[0;34m\u001b[0m\u001b[0;34m\u001b[0m\u001b[0m\n\u001b[0m",
      "\u001b[0;31mNameError\u001b[0m: name 'df' is not defined"
     ]
    }
   ],
   "source": [
    "df.plot( x='vintage', kind='bar', stacked=True)"
   ]
  },
  {
   "cell_type": "markdown",
   "metadata": {},
   "source": [
    "# 5.0. Data Preparation"
   ]
  },
  {
   "cell_type": "code",
   "execution_count": 69,
   "metadata": {
    "ExecuteTime": {
     "end_time": "2021-03-01T00:31:58.780439Z",
     "start_time": "2021-03-01T00:31:58.673126Z"
    }
   },
   "outputs": [],
   "source": [
    "X = df4.drop( 'response', axis=1 )\n",
    "y = df4['response'].copy() \n",
    "\n",
    "x_train, x_validation, y_train, y_validation = ms.train_test_split( X, y, test_size=0.20 )\n",
    "\n",
    "df5 = pd.concat( [x_train, y_train], axis=1 )"
   ]
  },
  {
   "cell_type": "markdown",
   "metadata": {},
   "source": [
    "## 5.1. Standardization"
   ]
  },
  {
   "cell_type": "code",
   "execution_count": 70,
   "metadata": {
    "ExecuteTime": {
     "end_time": "2021-03-01T00:32:00.234964Z",
     "start_time": "2021-03-01T00:32:00.193460Z"
    }
   },
   "outputs": [],
   "source": [
    "ss = pp.StandardScaler()\n",
    "\n",
    "# anual premium - StandarScaler\n",
    "df5['annual_premium'] = ss.fit_transform( df5[['annual_premium']].values )"
   ]
  },
  {
   "cell_type": "markdown",
   "metadata": {},
   "source": [
    "## 5.2. Rescaling"
   ]
  },
  {
   "cell_type": "code",
   "execution_count": 71,
   "metadata": {
    "ExecuteTime": {
     "end_time": "2021-03-01T00:32:02.052394Z",
     "start_time": "2021-03-01T00:32:02.025914Z"
    }
   },
   "outputs": [],
   "source": [
    "mms_age = pp.MinMaxScaler()\n",
    "mms_vintage = pp.MinMaxScaler()\n",
    "\n",
    "# Age - MinMaxScaler\n",
    "df5['age'] = mms_age.fit_transform( df5[['age']].values )\n",
    "\n",
    "# Vintage - MinMaxScaler\n",
    "df5['vintage'] = mms_vintage.fit_transform( df5[['vintage']].values )"
   ]
  },
  {
   "cell_type": "markdown",
   "metadata": {},
   "source": [
    "## 5.3. Transformation"
   ]
  },
  {
   "cell_type": "markdown",
   "metadata": {},
   "source": [
    "### 5.3.1. Encoding"
   ]
  },
  {
   "cell_type": "code",
   "execution_count": 72,
   "metadata": {
    "ExecuteTime": {
     "end_time": "2021-03-01T00:32:03.118654Z",
     "start_time": "2021-03-01T00:32:02.994733Z"
    }
   },
   "outputs": [],
   "source": [
    "# gender - One Hot Encoding / Target Encoding\n",
    "target_encode_gender = df5.groupby( 'gender' )['response'].mean()\n",
    "df5.loc[:, 'gender'] = df5['gender'].map( target_encode_gender )\n",
    "\n",
    "# region_code - Target Encoding / Frequency Encoding\n",
    "target_encode_region_code = df5.groupby( 'region_code' )['response'].mean()\n",
    "df5.loc[:, 'region_code'] = df5['region_code'].map( target_encode_region_code )\n",
    "\n",
    "# vehicle_age - One Hot Encoding / Frequency Encoding\n",
    "df5 = pd.get_dummies( df5, prefix='vehicle_age', columns=['vehicle_age'] )\n",
    "\n",
    "# policy_sales_channel - Target Encoding / Frequency Encoding\n",
    "fe_policy_sales_channel = df5.groupby( 'policy_sales_channel' ).size() / len( df5 ) \n",
    "df5.loc[:, 'policy_sales_channel'] = df5['policy_sales_channel'].map( fe_policy_sales_channel )"
   ]
  },
  {
   "cell_type": "markdown",
   "metadata": {},
   "source": [
    "## 5.4. Validation Preparation"
   ]
  },
  {
   "cell_type": "code",
   "execution_count": 73,
   "metadata": {
    "ExecuteTime": {
     "end_time": "2021-03-01T00:32:03.695738Z",
     "start_time": "2021-03-01T00:32:03.622887Z"
    }
   },
   "outputs": [],
   "source": [
    "# gender\n",
    "x_validation.loc[:, 'gender'] =  x_validation.loc[:, 'gender'].map( target_encode_gender )\n",
    "\n",
    "# age\n",
    "x_validation.loc[:, 'age'] = mms_age.transform( x_validation[['age']].values )\n",
    "\n",
    "# region_code\n",
    "x_validation.loc[:, 'region_code'] = x_validation.loc[:, 'region_code'].map( target_encode_region_code )\n",
    "\n",
    "# vehicle_age\n",
    "x_validation = pd.get_dummies( x_validation, prefix='vehicle_age', columns=['vehicle_age'] )\n",
    "\n",
    "# annual_premium\n",
    "x_validation.loc[:, 'annual_premium'] = ss.transform( x_validation[['annual_premium']].values )\n",
    "\n",
    "# policy_sales_channel\n",
    "x_validation.loc[:, 'policy_sales_channel'] = x_validation['policy_sales_channel'].map( fe_policy_sales_channel )\n",
    "\n",
    "# vintage\n",
    "x_validation.loc[:, 'vintage'] = mms_vintage.transform( x_validation[['vintage']].values )\n",
    "\n",
    "# fillna\n",
    "x_validation = x_validation.fillna( 0 )"
   ]
  },
  {
   "cell_type": "markdown",
   "metadata": {},
   "source": [
    "# 6.0. Feature Selection"
   ]
  },
  {
   "cell_type": "markdown",
   "metadata": {},
   "source": [
    "## 6.1. Boruta Algorithm"
   ]
  },
  {
   "cell_type": "code",
   "execution_count": 74,
   "metadata": {
    "ExecuteTime": {
     "end_time": "2021-03-01T00:33:38.605038Z",
     "start_time": "2021-03-01T00:32:04.512607Z"
    }
   },
   "outputs": [
    {
     "name": "stdout",
     "output_type": "stream",
     "text": [
      "Iteration: \t1 / 100\n",
      "Confirmed: \t0\n",
      "Tentative: \t12\n",
      "Rejected: \t0\n",
      "Iteration: \t2 / 100\n",
      "Confirmed: \t0\n",
      "Tentative: \t12\n",
      "Rejected: \t0\n",
      "Iteration: \t3 / 100\n",
      "Confirmed: \t0\n",
      "Tentative: \t12\n",
      "Rejected: \t0\n",
      "Iteration: \t4 / 100\n",
      "Confirmed: \t0\n",
      "Tentative: \t12\n",
      "Rejected: \t0\n",
      "Iteration: \t5 / 100\n",
      "Confirmed: \t0\n",
      "Tentative: \t12\n",
      "Rejected: \t0\n",
      "Iteration: \t6 / 100\n",
      "Confirmed: \t0\n",
      "Tentative: \t12\n",
      "Rejected: \t0\n",
      "Iteration: \t7 / 100\n",
      "Confirmed: \t0\n",
      "Tentative: \t12\n",
      "Rejected: \t0\n",
      "Iteration: \t8 / 100\n",
      "Confirmed: \t1\n",
      "Tentative: \t3\n",
      "Rejected: \t8\n",
      "Iteration: \t9 / 100\n",
      "Confirmed: \t1\n",
      "Tentative: \t3\n",
      "Rejected: \t8\n",
      "Iteration: \t10 / 100\n",
      "Confirmed: \t1\n",
      "Tentative: \t3\n",
      "Rejected: \t8\n",
      "Iteration: \t11 / 100\n",
      "Confirmed: \t1\n",
      "Tentative: \t3\n",
      "Rejected: \t8\n",
      "Iteration: \t12 / 100\n",
      "Confirmed: \t1\n",
      "Tentative: \t3\n",
      "Rejected: \t8\n",
      "Iteration: \t13 / 100\n",
      "Confirmed: \t1\n",
      "Tentative: \t3\n",
      "Rejected: \t8\n",
      "Iteration: \t14 / 100\n",
      "Confirmed: \t1\n",
      "Tentative: \t3\n",
      "Rejected: \t8\n",
      "Iteration: \t15 / 100\n",
      "Confirmed: \t1\n",
      "Tentative: \t3\n",
      "Rejected: \t8\n",
      "Iteration: \t16 / 100\n",
      "Confirmed: \t1\n",
      "Tentative: \t3\n",
      "Rejected: \t8\n",
      "Iteration: \t17 / 100\n",
      "Confirmed: \t1\n",
      "Tentative: \t3\n",
      "Rejected: \t8\n",
      "Iteration: \t18 / 100\n",
      "Confirmed: \t1\n",
      "Tentative: \t3\n",
      "Rejected: \t8\n",
      "Iteration: \t19 / 100\n",
      "Confirmed: \t2\n",
      "Tentative: \t1\n",
      "Rejected: \t9\n",
      "Iteration: \t20 / 100\n",
      "Confirmed: \t2\n",
      "Tentative: \t1\n",
      "Rejected: \t9\n",
      "Iteration: \t21 / 100\n",
      "Confirmed: \t2\n",
      "Tentative: \t1\n",
      "Rejected: \t9\n",
      "Iteration: \t22 / 100\n",
      "Confirmed: \t2\n",
      "Tentative: \t1\n",
      "Rejected: \t9\n",
      "Iteration: \t23 / 100\n",
      "Confirmed: \t2\n",
      "Tentative: \t1\n",
      "Rejected: \t9\n",
      "Iteration: \t24 / 100\n",
      "Confirmed: \t2\n",
      "Tentative: \t1\n",
      "Rejected: \t9\n",
      "Iteration: \t25 / 100\n",
      "Confirmed: \t2\n",
      "Tentative: \t1\n",
      "Rejected: \t9\n",
      "Iteration: \t26 / 100\n",
      "Confirmed: \t2\n",
      "Tentative: \t1\n",
      "Rejected: \t9\n",
      "Iteration: \t27 / 100\n",
      "Confirmed: \t2\n",
      "Tentative: \t1\n",
      "Rejected: \t9\n",
      "Iteration: \t28 / 100\n",
      "Confirmed: \t2\n",
      "Tentative: \t1\n",
      "Rejected: \t9\n",
      "Iteration: \t29 / 100\n",
      "Confirmed: \t2\n",
      "Tentative: \t1\n",
      "Rejected: \t9\n",
      "Iteration: \t30 / 100\n",
      "Confirmed: \t2\n",
      "Tentative: \t1\n",
      "Rejected: \t9\n",
      "Iteration: \t31 / 100\n",
      "Confirmed: \t2\n",
      "Tentative: \t1\n",
      "Rejected: \t9\n",
      "Iteration: \t32 / 100\n",
      "Confirmed: \t2\n",
      "Tentative: \t1\n",
      "Rejected: \t9\n",
      "Iteration: \t33 / 100\n",
      "Confirmed: \t2\n",
      "Tentative: \t1\n",
      "Rejected: \t9\n",
      "Iteration: \t34 / 100\n",
      "Confirmed: \t2\n",
      "Tentative: \t1\n",
      "Rejected: \t9\n",
      "Iteration: \t35 / 100\n",
      "Confirmed: \t2\n",
      "Tentative: \t1\n",
      "Rejected: \t9\n",
      "Iteration: \t36 / 100\n",
      "Confirmed: \t2\n",
      "Tentative: \t1\n",
      "Rejected: \t9\n",
      "Iteration: \t37 / 100\n",
      "Confirmed: \t2\n",
      "Tentative: \t1\n",
      "Rejected: \t9\n",
      "Iteration: \t38 / 100\n",
      "Confirmed: \t2\n",
      "Tentative: \t1\n",
      "Rejected: \t9\n",
      "Iteration: \t39 / 100\n",
      "Confirmed: \t2\n",
      "Tentative: \t1\n",
      "Rejected: \t9\n",
      "Iteration: \t40 / 100\n",
      "Confirmed: \t2\n",
      "Tentative: \t1\n",
      "Rejected: \t9\n",
      "Iteration: \t41 / 100\n",
      "Confirmed: \t2\n",
      "Tentative: \t1\n",
      "Rejected: \t9\n",
      "Iteration: \t42 / 100\n",
      "Confirmed: \t2\n",
      "Tentative: \t1\n",
      "Rejected: \t9\n",
      "Iteration: \t43 / 100\n",
      "Confirmed: \t2\n",
      "Tentative: \t1\n",
      "Rejected: \t9\n",
      "Iteration: \t44 / 100\n",
      "Confirmed: \t2\n",
      "Tentative: \t1\n",
      "Rejected: \t9\n",
      "Iteration: \t45 / 100\n",
      "Confirmed: \t2\n",
      "Tentative: \t1\n",
      "Rejected: \t9\n",
      "Iteration: \t46 / 100\n",
      "Confirmed: \t2\n",
      "Tentative: \t1\n",
      "Rejected: \t9\n",
      "Iteration: \t47 / 100\n",
      "Confirmed: \t2\n",
      "Tentative: \t1\n",
      "Rejected: \t9\n",
      "Iteration: \t48 / 100\n",
      "Confirmed: \t2\n",
      "Tentative: \t1\n",
      "Rejected: \t9\n",
      "Iteration: \t49 / 100\n",
      "Confirmed: \t2\n",
      "Tentative: \t0\n",
      "Rejected: \t10\n",
      "\n",
      "\n",
      "BorutaPy finished running.\n",
      "\n",
      "Iteration: \t50 / 100\n",
      "Confirmed: \t2\n",
      "Tentative: \t0\n",
      "Rejected: \t10\n"
     ]
    }
   ],
   "source": [
    "x_train_n = df5.drop( ['id', 'response'], axis=1 ).values\n",
    "y_train_n = y_train.values.ravel()\n",
    "\n",
    "# Define model\n",
    "et = en.ExtraTreesClassifier( n_jobs=-1 )\n",
    "\n",
    "# Define boruta\n",
    "boruta = bt.BorutaPy( et, n_estimators='auto', verbose=2, random_state=42 ).fit( x_train_n, y_train_n  )"
   ]
  },
  {
   "cell_type": "code",
   "execution_count": 75,
   "metadata": {
    "ExecuteTime": {
     "end_time": "2021-03-01T00:33:38.623465Z",
     "start_time": "2021-03-01T00:33:38.607337Z"
    }
   },
   "outputs": [],
   "source": [
    "cols_selected = boruta.support_.tolist()\n",
    "\n",
    "# best features\n",
    "x_train_fs = df5.drop( ['id', 'response'], axis=1 )\n",
    "cols_selected_boruta = x_train_fs.iloc[:, cols_selected].columns.to_list()\n",
    "\n",
    "# not selected boruta\n",
    "cols_not_selected_boruta = list( np.setdiff1d( x_train_fs.columns, cols_selected_boruta ) )"
   ]
  },
  {
   "cell_type": "markdown",
   "metadata": {},
   "source": [
    "## 6.2. Feature Importance"
   ]
  },
  {
   "cell_type": "code",
   "execution_count": 76,
   "metadata": {
    "ExecuteTime": {
     "end_time": "2021-03-01T00:33:52.919698Z",
     "start_time": "2021-03-01T00:33:38.626677Z"
    }
   },
   "outputs": [
    {
     "data": {
      "text/plain": [
       "ExtraTreesClassifier(n_estimators=250, n_jobs=-1, random_state=0)"
      ]
     },
     "execution_count": 76,
     "metadata": {},
     "output_type": "execute_result"
    }
   ],
   "source": [
    "# model definition\n",
    "forest = en.ExtraTreesClassifier( n_estimators=250, random_state=0, n_jobs=-1 )\n",
    "\n",
    "# data preparation\n",
    "x_train_n = df5.drop( ['id', 'response'], axis=1 )\n",
    "y_train_n = y_train.values\n",
    "forest.fit( x_train_n, y_train_n )"
   ]
  },
  {
   "cell_type": "code",
   "execution_count": 77,
   "metadata": {
    "ExecuteTime": {
     "end_time": "2021-03-01T00:33:53.786555Z",
     "start_time": "2021-03-01T00:33:52.922517Z"
    }
   },
   "outputs": [
    {
     "name": "stdout",
     "output_type": "stream",
     "text": [
      "Feature ranking:\n",
      "                        feature  importance\n",
      "0                annual_premium    0.274335\n",
      "0                       vintage    0.247867\n",
      "0                           age    0.156836\n",
      "0                   region_code    0.103113\n",
      "0                vehicle_damage    0.071035\n",
      "0            previously_insured    0.058597\n",
      "0          policy_sales_channel    0.057120\n",
      "0      vehicle_age_below_1_year    0.015533\n",
      "0  vehicle_age_between_1_2_year    0.007012\n",
      "0                        gender    0.004868\n",
      "0      vehicle_age_over_2_years    0.003171\n",
      "0               driving_license    0.000514\n"
     ]
    },
    {
     "data": {
      "image/png": "[encoded data removed]",
      "text/plain": [
       "<Figure size 432x288 with 1 Axes>"
      ]
     },
     "metadata": {
      "needs_background": "light"
     },
     "output_type": "display_data"
    }
   ],
   "source": [
    "importances = forest.feature_importances_\n",
    "std = np.std([tree.feature_importances_ for tree in forest.estimators_], axis=0)\n",
    "indices = np.argsort(importances)[::-1]\n",
    "\n",
    "# Print the feature ranking\n",
    "print(\"Feature ranking:\")\n",
    "df = pd.DataFrame()\n",
    "for i, j in zip( x_train_n, forest.feature_importances_ ):\n",
    "    aux = pd.DataFrame( {'feature': i, 'importance': j}, index=[0] )\n",
    "    df = pd.concat( [df, aux], axis=0 )\n",
    "    \n",
    "print( df.sort_values( 'importance', ascending=False ) )\n",
    "\n",
    "# Plot the impurity-based feature importances of the forest\n",
    "plt.figure()\n",
    "plt.title(\"Feature importances\")\n",
    "plt.bar(range(x_train_n.shape[1]), importances[indices], color=\"r\", yerr=std[indices], align=\"center\")\n",
    "plt.xticks(range(x_train_n.shape[1]), indices)\n",
    "plt.xlim([-1, x_train_n.shape[1]])\n",
    "plt.show()"
   ]
  },
  {
   "cell_type": "markdown",
   "metadata": {},
   "source": [
    "# 7.0. Machine Learning Modelling"
   ]
  },
  {
   "cell_type": "code",
   "execution_count": 78,
   "metadata": {
    "ExecuteTime": {
     "end_time": "2021-03-01T00:33:53.790699Z",
     "start_time": "2021-03-01T00:33:53.788377Z"
    }
   },
   "outputs": [],
   "source": [
    "cols_selected = ['annual_premium', 'vintage', 'age', 'region_code', 'vehicle_damage', 'previously_insured',\n",
    "                 'policy_sales_channel']"
   ]
  },
  {
   "cell_type": "code",
   "execution_count": 79,
   "metadata": {
    "ExecuteTime": {
     "end_time": "2021-03-01T00:33:53.814299Z",
     "start_time": "2021-03-01T00:33:53.792846Z"
    }
   },
   "outputs": [],
   "source": [
    "x_train = df5[ cols_selected ]\n",
    "\n",
    "x_val = x_validation[ cols_selected ]\n",
    "y_val = y_validation"
   ]
  },
  {
   "cell_type": "markdown",
   "metadata": {},
   "source": [
    "## 7.1. KNN Classifier"
   ]
  },
  {
   "cell_type": "code",
   "execution_count": 80,
   "metadata": {
    "ExecuteTime": {
     "end_time": "2021-03-01T00:34:01.804190Z",
     "start_time": "2021-03-01T00:33:53.816824Z"
    }
   },
   "outputs": [],
   "source": [
    "# model definition\n",
    "knn_model = nh.KNeighborsClassifier( n_neighbors=7 )\n",
    "\n",
    "# model training\n",
    "knn_model.fit( x_train, y_train )\n",
    "\n",
    "# model prediction\n",
    "yhat_knn = knn_model.predict_proba( x_val )"
   ]
  },
  {
   "cell_type": "code",
   "execution_count": 81,
   "metadata": {
    "ExecuteTime": {
     "end_time": "2021-03-01T00:34:02.062189Z",
     "start_time": "2021-03-01T00:34:01.808448Z"
    },
    "cell_style": "split"
   },
   "outputs": [
    {
     "data": {
      "image/png": "[encoded data removed]",
      "text/plain": [
       "<Figure size 432x288 with 1 Axes>"
      ]
     },
     "metadata": {
      "needs_background": "light"
     },
     "output_type": "display_data"
    }
   ],
   "source": [
    "# Accumulative Gain\n",
    "skplt.metrics.plot_cumulative_gain( y_val, yhat_knn );"
   ]
  },
  {
   "cell_type": "code",
   "execution_count": 82,
   "metadata": {
    "ExecuteTime": {
     "end_time": "2021-03-01T00:34:02.313485Z",
     "start_time": "2021-03-01T00:34:02.065335Z"
    },
    "cell_style": "split"
   },
   "outputs": [
    {
     "data": {
      "image/png": "[encoded data removed]",
      "text/plain": [
       "<Figure size 432x288 with 1 Axes>"
      ]
     },
     "metadata": {
      "needs_background": "light"
     },
     "output_type": "display_data"
    }
   ],
   "source": [
    "#Scikitplot library is there to help\n",
    "skplt.metrics.plot_lift_curve( y_val, yhat_knn );"
   ]
  },
  {
   "cell_type": "markdown",
   "metadata": {},
   "source": [
    "## 7.2. Logistic Regression"
   ]
  },
  {
   "cell_type": "code",
   "execution_count": 83,
   "metadata": {
    "ExecuteTime": {
     "end_time": "2021-03-01T00:34:02.971168Z",
     "start_time": "2021-03-01T00:34:02.315488Z"
    }
   },
   "outputs": [],
   "source": [
    "# model definition\n",
    "lr_model = lm.LogisticRegression( random_state=42 ) \n",
    "\n",
    "# model training\n",
    "lr_model.fit( x_train, y_train )\n",
    "\n",
    "# model prediction\n",
    "yhat_lr = lr_model.predict_proba( x_val )"
   ]
  },
  {
   "cell_type": "code",
   "execution_count": 84,
   "metadata": {
    "ExecuteTime": {
     "end_time": "2021-03-01T00:34:03.186704Z",
     "start_time": "2021-03-01T00:34:02.972749Z"
    },
    "cell_style": "split"
   },
   "outputs": [
    {
     "data": {
      "image/png": "[encoded data removed]",
      "text/plain": [
       "<Figure size 432x288 with 1 Axes>"
      ]
     },
     "metadata": {
      "needs_background": "light"
     },
     "output_type": "display_data"
    }
   ],
   "source": [
    "# Accumulative Gain\n",
    "skplt.metrics.plot_cumulative_gain( y_val, yhat_lr );"
   ]
  },
  {
   "cell_type": "code",
   "execution_count": 85,
   "metadata": {
    "ExecuteTime": {
     "end_time": "2021-03-01T00:34:03.508278Z",
     "start_time": "2021-03-01T00:34:03.188540Z"
    },
    "cell_style": "split"
   },
   "outputs": [
    {
     "data": {
      "image/png": "[encoded data removed]",
      "text/plain": [
       "<Figure size 432x288 with 1 Axes>"
      ]
     },
     "metadata": {
      "needs_background": "light"
     },
     "output_type": "display_data"
    }
   ],
   "source": [
    "#Scikitplot library is there to help\n",
    "skplt.metrics.plot_lift_curve( y_val, yhat_lr );"
   ]
  },
  {
   "cell_type": "markdown",
   "metadata": {},
   "source": [
    "## 7.3. Extra Trees Classifier\n",
    "\n"
   ]
  },
  {
   "cell_type": "code",
   "execution_count": 86,
   "metadata": {
    "ExecuteTime": {
     "end_time": "2021-03-01T00:34:56.706195Z",
     "start_time": "2021-03-01T00:34:03.510101Z"
    }
   },
   "outputs": [],
   "source": [
    "# model definition\n",
    "et = en.ExtraTreesClassifier( n_estimators=1000, n_jobs=-1, random_state=42 ) \n",
    "\n",
    "# model training\n",
    "et.fit( x_train, y_train )\n",
    "\n",
    "# model prediction\n",
    "yhat_et = et.predict_proba( x_val )"
   ]
  },
  {
   "cell_type": "code",
   "execution_count": 87,
   "metadata": {
    "ExecuteTime": {
     "end_time": "2021-03-01T00:34:57.511125Z",
     "start_time": "2021-03-01T00:34:56.730701Z"
    },
    "cell_style": "split"
   },
   "outputs": [
    {
     "data": {
      "image/png": "[encoded data removed]",
      "text/plain": [
       "<Figure size 432x288 with 1 Axes>"
      ]
     },
     "metadata": {
      "needs_background": "light"
     },
     "output_type": "display_data"
    }
   ],
   "source": [
    "# Accumulative Gain\n",
    "skplt.metrics.plot_cumulative_gain( y_val, yhat_et );"
   ]
  },
  {
   "cell_type": "code",
   "execution_count": 88,
   "metadata": {
    "ExecuteTime": {
     "end_time": "2021-03-01T00:34:57.832014Z",
     "start_time": "2021-03-01T00:34:57.516903Z"
    },
    "cell_style": "split"
   },
   "outputs": [
    {
     "data": {
      "image/png": "[encoded data removed]",
      "text/plain": [
       "<Figure size 432x288 with 1 Axes>"
      ]
     },
     "metadata": {
      "needs_background": "light"
     },
     "output_type": "display_data"
    }
   ],
   "source": [
    "#Scikitplot library is there to help\n",
    "skplt.metrics.plot_lift_curve( y_val, yhat_et );"
   ]
  },
  {
   "cell_type": "markdown",
   "metadata": {},
   "source": [
    "## 7.4. Random Forest"
   ]
  },
  {
   "cell_type": "code",
   "execution_count": 89,
   "metadata": {
    "ExecuteTime": {
     "end_time": "2021-03-01T00:36:24.275554Z",
     "start_time": "2021-03-01T00:34:57.835559Z"
    }
   },
   "outputs": [],
   "source": [
    "# model definition\n",
    "rf = en.RandomForestClassifier( n_estimators=1000, n_jobs=-1, random_state=42 ) \n",
    "\n",
    "# model training\n",
    "rf.fit( x_train, y_train )\n",
    "\n",
    "# model prediction\n",
    "yhat_rf = et.predict_proba( x_val )"
   ]
  },
  {
   "cell_type": "code",
   "execution_count": 90,
   "metadata": {
    "ExecuteTime": {
     "end_time": "2021-03-01T00:36:24.664316Z",
     "start_time": "2021-03-01T00:36:24.283443Z"
    },
    "cell_style": "split"
   },
   "outputs": [
    {
     "data": {
      "image/png": "[encoded data removed]",
      "text/plain": [
       "<Figure size 432x288 with 1 Axes>"
      ]
     },
     "metadata": {
      "needs_background": "light"
     },
     "output_type": "display_data"
    }
   ],
   "source": [
    "# Accumulative Gain\n",
    "skplt.metrics.plot_cumulative_gain( y_val, yhat_rf );"
   ]
  },
  {
   "cell_type": "code",
   "execution_count": 91,
   "metadata": {
    "ExecuteTime": {
     "end_time": "2021-03-01T00:36:25.003843Z",
     "start_time": "2021-03-01T00:36:24.669788Z"
    },
    "cell_style": "split"
   },
   "outputs": [
    {
     "data": {
      "image/png": "[encoded data removed]",
      "text/plain": [
       "<Figure size 432x288 with 1 Axes>"
      ]
     },
     "metadata": {
      "needs_background": "light"
     },
     "output_type": "display_data"
    }
   ],
   "source": [
    "#Scikitplot library is there to help\n",
    "skplt.metrics.plot_lift_curve( y_val, yhat_rf );"
   ]
  },
  {
   "cell_type": "code",
   "execution_count": null,
   "metadata": {},
   "outputs": [],
   "source": []
  },
  {
   "cell_type": "markdown",
   "metadata": {},
   "source": [
    "## 8.0. Performance Metrics"
   ]
  },
  {
   "cell_type": "code",
   "execution_count": 92,
   "metadata": {
    "ExecuteTime": {
     "end_time": "2021-03-01T00:36:25.021525Z",
     "start_time": "2021-03-01T00:36:25.006758Z"
    }
   },
   "outputs": [],
   "source": [
    "def precision_at_k( data, k=10 ):\n",
    "    data = data.reset_index( drop=True )\n",
    "    data['ranking'] = data.index + 1\n",
    "    \n",
    "    data['precision_at_k'] = data['response'].cumsum() / data['ranking']\n",
    "    \n",
    "    return ( data.loc[ k, 'precision_at_k'], data )"
   ]
  },
  {
   "cell_type": "code",
   "execution_count": 93,
   "metadata": {
    "ExecuteTime": {
     "end_time": "2021-03-01T00:36:25.029875Z",
     "start_time": "2021-03-01T00:36:25.024239Z"
    }
   },
   "outputs": [],
   "source": [
    "def recall_at_k( data, k=15 ):\n",
    "    data = data.reset_index( drop=True )\n",
    "    data['ranking'] = data.index + 1\n",
    "    \n",
    "    data['recall_at_k'] = data['response'].cumsum() / data['response'].sum()\n",
    "    \n",
    "    return ( data.loc[ k, 'recall_at_k'], data )"
   ]
  },
  {
   "cell_type": "code",
   "execution_count": 94,
   "metadata": {
    "ExecuteTime": {
     "end_time": "2021-03-01T00:36:25.178784Z",
     "start_time": "2021-03-01T00:36:25.031740Z"
    }
   },
   "outputs": [],
   "source": [
    "# copy dataframe\n",
    "df8 = x_validation.copy()\n",
    "df8['response'] = y_validation.copy()\n",
    "\n",
    "# propensity score\n",
    "df8['score'] = yhat_et[:, 1].tolist()\n",
    "\n",
    "# sort clients by propensity score\n",
    "df8 = df8.sort_values( 'score', ascending=False )\n",
    "\n",
    "# compute precision at k \n",
    "precision_at_20, data = precision_at_k( df8, k=20 )\n",
    "\n",
    "# compute recall at k\n",
    "recall_at_15, data = recall_at_k( df8, k=15 )"
   ]
  },
  {
   "cell_type": "code",
   "execution_count": 95,
   "metadata": {
    "ExecuteTime": {
     "end_time": "2021-03-01T00:36:25.202673Z",
     "start_time": "2021-03-01T00:36:25.181296Z"
    }
   },
   "outputs": [
    {
     "data": {
      "text/plain": [
       "0.75"
      ]
     },
     "execution_count": 95,
     "metadata": {},
     "output_type": "execute_result"
    }
   ],
   "source": [
    "import numpy as np\n",
    "from sklearn.metrics import top_k_accuracy_score\n",
    "\n",
    "y_true = np.array([0, 1, 2, 2])\n",
    "y_score = np.array([[0.5, 0.2, 0.2],  # 0 is in top 2\n",
    "                    [0.3, 0.4, 0.2],  # 1 is in top 2\n",
    "                    [0.2, 0.4, 0.3],  # 2 is in top 2\n",
    "                    [0.7, 0.2, 0.1]]) # 2 isn't in top 2\n",
    "\n",
    "top_k_accuracy_score(y_true, y_score, k=2)"
   ]
  },
  {
   "cell_type": "code",
   "execution_count": 96,
   "metadata": {
    "ExecuteTime": {
     "end_time": "2021-03-01T00:36:25.238496Z",
     "start_time": "2021-03-01T00:36:25.234274Z"
    }
   },
   "outputs": [],
   "source": [
    "y_true = np.array( [1, 0, 1, 1, 0, 1, 0, 0] )\n",
    "y_score = np.array( [])"
   ]
  },
  {
   "cell_type": "markdown",
   "metadata": {},
   "source": [
    "# Cummulative Curve Manually"
   ]
  },
  {
   "cell_type": "code",
   "execution_count": 97,
   "metadata": {
    "ExecuteTime": {
     "end_time": "2021-03-01T00:36:34.307111Z",
     "start_time": "2021-03-01T00:36:25.240836Z"
    }
   },
   "outputs": [
    {
     "data": {
      "text/plain": [
       "<AxesSubplot:xlabel='base_cum_perc', ylabel='real_cum_perc'>"
      ]
     },
     "execution_count": 97,
     "metadata": {},
     "output_type": "execute_result"
    },
    {
     "data": {
      "image/png": "[encoded data removed]",
      "text/plain": [
       "<Figure size 864x576 with 1 Axes>"
      ]
     },
     "metadata": {
      "needs_background": "light"
     },
     "output_type": "display_data"
    }
   ],
   "source": [
    "results = pd.DataFrame()\n",
    "results['prediction'] = yhat_et[:,1].tolist()\n",
    "results['real'] = y_val.tolist()\n",
    "\n",
    "# ordering by prediction\n",
    "results = results.sort_values( 'prediction', ascending=False )\n",
    "\n",
    "# Percentage of intereset ( Propensity Score )\n",
    "results['real_cum'] = results['real'].cumsum() \n",
    "results['real_cum_perc'] = 100*results['real_cum']/results['real'].sum()\n",
    "\n",
    "# Percentage of Base ( Clients )\n",
    "results['base'] = range( 1, len( results ) + 1  )\n",
    "results['base_cum_perc'] = 100*results['base']/len( results )\n",
    "\n",
    "# Basline model\n",
    "results['baseline'] = results['base_cum_perc']\n",
    "\n",
    "plt.figure( figsize=(12,8))\n",
    "sns.lineplot( x='base_cum_perc', y='real_cum_perc', data=results )\n",
    "sns.lineplot( x='base_cum_perc', y='baseline', data=results )"
   ]
  },
  {
   "cell_type": "code",
   "execution_count": null,
   "metadata": {},
   "outputs": [],
   "source": []
  },
  {
   "cell_type": "markdown",
   "metadata": {},
   "source": [
    "# Lift Curve Manually"
   ]
  },
  {
   "cell_type": "code",
   "execution_count": 98,
   "metadata": {
    "ExecuteTime": {
     "end_time": "2021-03-01T00:36:37.513068Z",
     "start_time": "2021-03-01T00:36:34.308795Z"
    }
   },
   "outputs": [
    {
     "data": {
      "text/plain": [
       "<AxesSubplot:xlabel='base_cum_perc', ylabel='lift'>"
      ]
     },
     "execution_count": 98,
     "metadata": {},
     "output_type": "execute_result"
    },
    {
     "data": {
      "image/png": "[encoded data removed]",
      "text/plain": [
       "<Figure size 864x576 with 1 Axes>"
      ]
     },
     "metadata": {
      "needs_background": "light"
     },
     "output_type": "display_data"
    }
   ],
   "source": [
    "results = pd.DataFrame()\n",
    "results['prediction'] = yhat_et[:,1].tolist()\n",
    "results['real'] = y_val.tolist()\n",
    "\n",
    "# ordering by prediction\n",
    "results = results.sort_values( 'prediction', ascending=False )\n",
    "\n",
    "# Percentage of intereset ( Propensity Score )\n",
    "results['real_cum'] = results['real'].cumsum() \n",
    "results['real_cum_perc'] = 100*results['real_cum']/results['real'].sum()\n",
    "\n",
    "# Percentage of Base ( Clients )\n",
    "results['base'] = range( 1, len( results ) + 1  )\n",
    "results['base_cum_perc'] = 100*results['base']/len( results )\n",
    "\n",
    "# Basline model\n",
    "results['baseline'] = results['base_cum_perc']\n",
    "\n",
    "# Lift Calculation\n",
    "results['lift'] = results['real_cum_perc'] / results['base_cum_perc']\n",
    "\n",
    "plt.figure( figsize=(12,8))\n",
    "sns.lineplot( x='base_cum_perc', y='lift', data=results )"
   ]
  },
  {
   "cell_type": "code",
   "execution_count": null,
   "metadata": {},
   "outputs": [],
   "source": []
  },
  {
   "cell_type": "markdown",
   "metadata": {},
   "source": [
    "# ROI Curve Manually"
   ]
  },
  {
   "cell_type": "code",
   "execution_count": 99,
   "metadata": {
    "ExecuteTime": {
     "end_time": "2021-03-01T00:36:37.582833Z",
     "start_time": "2021-03-01T00:36:37.514987Z"
    }
   },
   "outputs": [],
   "source": [
    "results = pd.DataFrame()\n",
    "results['prediction'] = yhat_et[:,1].tolist()\n",
    "results['real'] = y_val.tolist()\n",
    "\n",
    "# ordering by prediction\n",
    "results = results.sort_values( 'prediction', ascending=False )\n",
    "\n",
    "# Percentage of intereset ( Propensity Score )\n",
    "results['real_cum'] = results['real'].cumsum() \n",
    "results['real_cum_perc'] = 100*results['real_cum']/results['real'].sum()\n",
    "\n",
    "# Percentage of Base ( Clients )\n",
    "results['base'] = range( 1, len( results ) + 1  )\n",
    "results['base_cum_perc'] = 100*results['base']/len( results )\n",
    "\n",
    "# Basline model\n",
    "results['baseline'] = results['base_cum_perc']\n",
    "\n",
    "# Lift Calculation\n",
    "results['lift'] = results['real_cum_perc'] / results['base_cum_perc']\n",
    "\n",
    "# ROI Curve\n",
    "\n",
    "\n",
    "#plt.figure( figsize=(12,8))\n",
    "#sns.lineplot( x='base_cum_perc', y='lift', data=results )"
   ]
  },
  {
   "cell_type": "code",
   "execution_count": 100,
   "metadata": {
    "ExecuteTime": {
     "end_time": "2021-03-01T00:36:37.679614Z",
     "start_time": "2021-03-01T00:36:37.585533Z"
    }
   },
   "outputs": [
    {
     "data": {
      "text/html": [
       "<div>\n",
       "<style scoped>\n",
       "    .dataframe tbody tr th:only-of-type {\n",
       "        vertical-align: middle;\n",
       "    }\n",
       "\n",
       "    .dataframe tbody tr th {\n",
       "        vertical-align: top;\n",
       "    }\n",
       "\n",
       "    .dataframe thead th {\n",
       "        text-align: right;\n",
       "    }\n",
       "</style>\n",
       "<table border=\"1\" class=\"dataframe\">\n",
       "  <thead>\n",
       "    <tr style=\"text-align: right;\">\n",
       "      <th></th>\n",
       "      <th>index</th>\n",
       "      <th>clients</th>\n",
       "      <th>propensity_score</th>\n",
       "      <th>gross_revenue</th>\n",
       "      <th>cost</th>\n",
       "      <th>base</th>\n",
       "      <th>revenue</th>\n",
       "    </tr>\n",
       "  </thead>\n",
       "  <tbody>\n",
       "    <tr>\n",
       "      <th>9</th>\n",
       "      <td>0.90</td>\n",
       "      <td>0.9</td>\n",
       "      <td>49</td>\n",
       "      <td>1764.0</td>\n",
       "      <td>3.6</td>\n",
       "      <td>1.000000</td>\n",
       "      <td>1760.4</td>\n",
       "    </tr>\n",
       "    <tr>\n",
       "      <th>8</th>\n",
       "      <td>0.80</td>\n",
       "      <td>0.8</td>\n",
       "      <td>129</td>\n",
       "      <td>4128.0</td>\n",
       "      <td>3.2</td>\n",
       "      <td>0.800000</td>\n",
       "      <td>4124.8</td>\n",
       "    </tr>\n",
       "    <tr>\n",
       "      <th>7</th>\n",
       "      <td>0.70</td>\n",
       "      <td>0.7</td>\n",
       "      <td>333</td>\n",
       "      <td>9324.0</td>\n",
       "      <td>2.8</td>\n",
       "      <td>0.622222</td>\n",
       "      <td>9321.2</td>\n",
       "    </tr>\n",
       "    <tr>\n",
       "      <th>6</th>\n",
       "      <td>0.60</td>\n",
       "      <td>0.6</td>\n",
       "      <td>784</td>\n",
       "      <td>18816.0</td>\n",
       "      <td>2.4</td>\n",
       "      <td>0.466667</td>\n",
       "      <td>18813.6</td>\n",
       "    </tr>\n",
       "    <tr>\n",
       "      <th>5</th>\n",
       "      <td>0.50</td>\n",
       "      <td>0.5</td>\n",
       "      <td>1676</td>\n",
       "      <td>33520.0</td>\n",
       "      <td>2.0</td>\n",
       "      <td>0.333333</td>\n",
       "      <td>33518.0</td>\n",
       "    </tr>\n",
       "    <tr>\n",
       "      <th>4</th>\n",
       "      <td>0.40</td>\n",
       "      <td>0.4</td>\n",
       "      <td>2996</td>\n",
       "      <td>47936.0</td>\n",
       "      <td>1.6</td>\n",
       "      <td>0.222222</td>\n",
       "      <td>47934.4</td>\n",
       "    </tr>\n",
       "    <tr>\n",
       "      <th>3</th>\n",
       "      <td>0.30</td>\n",
       "      <td>0.3</td>\n",
       "      <td>4665</td>\n",
       "      <td>55980.0</td>\n",
       "      <td>1.2</td>\n",
       "      <td>0.133333</td>\n",
       "      <td>55978.8</td>\n",
       "    </tr>\n",
       "    <tr>\n",
       "      <th>2</th>\n",
       "      <td>0.20</td>\n",
       "      <td>0.2</td>\n",
       "      <td>6195</td>\n",
       "      <td>49560.0</td>\n",
       "      <td>0.8</td>\n",
       "      <td>0.066667</td>\n",
       "      <td>49559.2</td>\n",
       "    </tr>\n",
       "    <tr>\n",
       "      <th>1</th>\n",
       "      <td>0.10</td>\n",
       "      <td>0.1</td>\n",
       "      <td>6773</td>\n",
       "      <td>27092.0</td>\n",
       "      <td>0.4</td>\n",
       "      <td>0.022222</td>\n",
       "      <td>27091.6</td>\n",
       "    </tr>\n",
       "    <tr>\n",
       "      <th>0</th>\n",
       "      <td>0.01</td>\n",
       "      <td>0.0</td>\n",
       "      <td>39490</td>\n",
       "      <td>0.0</td>\n",
       "      <td>0.0</td>\n",
       "      <td>0.000000</td>\n",
       "      <td>0.0</td>\n",
       "    </tr>\n",
       "  </tbody>\n",
       "</table>\n",
       "</div>"
      ],
      "text/plain": [
       "   index  clients  propensity_score  gross_revenue  cost      base  revenue\n",
       "9   0.90      0.9                49         1764.0   3.6  1.000000   1760.4\n",
       "8   0.80      0.8               129         4128.0   3.2  0.800000   4124.8\n",
       "7   0.70      0.7               333         9324.0   2.8  0.622222   9321.2\n",
       "6   0.60      0.6               784        18816.0   2.4  0.466667  18813.6\n",
       "5   0.50      0.5              1676        33520.0   2.0  0.333333  33518.0\n",
       "4   0.40      0.4              2996        47936.0   1.6  0.222222  47934.4\n",
       "3   0.30      0.3              4665        55980.0   1.2  0.133333  55978.8\n",
       "2   0.20      0.2              6195        49560.0   0.8  0.066667  49559.2\n",
       "1   0.10      0.1              6773        27092.0   0.4  0.022222  27091.6\n",
       "0   0.01      0.0             39490            0.0   0.0  0.000000      0.0"
      ]
     },
     "execution_count": 100,
     "metadata": {},
     "output_type": "execute_result"
    }
   ],
   "source": [
    "# Compute bucket\n",
    "results['bucket'] = results['prediction'].apply( lambda x: 0.9 if x >= 0.90 else \n",
    "                                                           0.8 if ( x >= 0.80) & ( x <= 0.90 ) else \n",
    "                                                           0.7 if ( x >= 0.70) & ( x <= 0.80 ) else \n",
    "                                                           0.6 if ( x >= 0.60) & ( x <= 0.70 ) else \n",
    "                                                           0.5 if ( x >= 0.50) & ( x <= 0.60 ) else \n",
    "                                                           0.4 if ( x >= 0.40) & ( x <= 0.50 ) else \n",
    "                                                           0.3 if ( x >= 0.30) & ( x <= 0.40 ) else \n",
    "                                                           0.2 if ( x >= 0.20) & ( x <= 0.30 ) else \n",
    "                                                           0.1 if ( x >= 0.10) & ( x <= 0.20 ) else 0.01 )\n",
    "\n",
    "#  Aggregate clients among buckets\n",
    "df = results[['prediction','bucket']].groupby( 'bucket' ).agg( {'min', 'count'} ).reset_index()\n",
    "df.columns = df.columns.droplevel()\n",
    "df.columns = ['index', 'clients', 'propensity_score']\n",
    "\n",
    "# Compute revenue and cost\n",
    "df['gross_revenue'] = 40 * df['clients'] * df['propensity_score'] \n",
    "df['cost'] = 4 * df['clients']\n",
    "\n",
    "df['base'] = df['clients'].sort_values( ascending=True ).cumsum() / df['clients'].sum()\n",
    "\n",
    "# revenue\n",
    "df['revenue'] = df['gross_revenue'] - df['cost']\n",
    "df = df.sort_values( 'index', ascending=False )\n",
    "df"
   ]
  },
  {
   "cell_type": "code",
   "execution_count": 101,
   "metadata": {
    "ExecuteTime": {
     "end_time": "2021-03-01T00:36:37.893221Z",
     "start_time": "2021-03-01T00:36:37.681782Z"
    }
   },
   "outputs": [
    {
     "data": {
      "text/plain": [
       "<AxesSubplot:xlabel='base', ylabel='revenue'>"
      ]
     },
     "execution_count": 101,
     "metadata": {},
     "output_type": "execute_result"
    },
    {
     "data": {
      "image/png": "[encoded data removed]",
      "text/plain": [
       "<Figure size 864x576 with 1 Axes>"
      ]
     },
     "metadata": {
      "needs_background": "light"
     },
     "output_type": "display_data"
    }
   ],
   "source": [
    "plt.figure( figsize=(12,8))\n",
    "aux = df[df['propensity_score'] >= 0.1]\n",
    "sns.lineplot( x='base', y='revenue', data=aux )"
   ]
  },
  {
   "cell_type": "code",
   "execution_count": null,
   "metadata": {},
   "outputs": [],
   "source": []
  },
  {
   "cell_type": "markdown",
   "metadata": {},
   "source": [
    "# 8.0. Production Code"
   ]
  },
  {
   "cell_type": "code",
   "execution_count": 175,
   "metadata": {
    "ExecuteTime": {
     "end_time": "2021-03-02T10:35:38.004300Z",
     "start_time": "2021-03-02T10:35:38.002159Z"
    }
   },
   "outputs": [],
   "source": [
    "# O que é orientação à objeto?\n",
    "# 1. É uma modelagem do mundo real em blocos de costrução.   \n",
    "#\n",
    "# Quais são os objetos ?\n",
    "# 2. São materialização das classes em objetos \n",
    "#\n",
    "# O que são classes?\n",
    "# 1. Classes são formulários\n",
    "#   1. Guardam variávies e métodos."
   ]
  },
  {
   "cell_type": "code",
   "execution_count": 176,
   "metadata": {
    "ExecuteTime": {
     "end_time": "2021-03-02T10:35:38.310931Z",
     "start_time": "2021-03-02T10:35:38.306198Z"
    }
   },
   "outputs": [],
   "source": [
    "class Integrante:\n",
    "    def __init__( self, nome, peso, altura, salario ):\n",
    "        self.nome = nome\n",
    "        self.peso = peso\n",
    "        self.altura = altura\n",
    "        self.salario = salario\n",
    "        \n",
    "    def get_nome( self ):\n",
    "        return self.nome\n",
    "    \n",
    "    def salario( self ):\n",
    "        return 2.500"
   ]
  },
  {
   "cell_type": "code",
   "execution_count": 177,
   "metadata": {
    "ExecuteTime": {
     "end_time": "2021-03-02T10:35:38.603466Z",
     "start_time": "2021-03-02T10:35:38.598078Z"
    }
   },
   "outputs": [],
   "source": [
    "class JogadorDeLinha( Integrante ):\n",
    "    def __init__( self, nome, peso, altura, salario, gols ):\n",
    "        self.gols = gols\n",
    "        super().__init__( nome, peso, altura, salario )\n",
    "        \n",
    "    def salary( self ):\n",
    "        return 10*self.gols\n",
    "    \n",
    "    \n",
    "class Tecnico( Integrante ):\n",
    "    def __init__( self, nome, peso, altura, salario, partidas ):\n",
    "        self.partidas = partidas\n",
    "        super().__init__( nome, peso, altura, salario )\n",
    "        \n",
    "    def salary( self ):\n",
    "        return 5*self.partidas"
   ]
  },
  {
   "cell_type": "code",
   "execution_count": 178,
   "metadata": {
    "ExecuteTime": {
     "end_time": "2021-03-02T10:35:38.875795Z",
     "start_time": "2021-03-02T10:35:38.871495Z"
    }
   },
   "outputs": [
    {
     "name": "stdout",
     "output_type": "stream",
     "text": [
      "50\n",
      "Meigarom\n"
     ]
    }
   ],
   "source": [
    "meigarom = JogadorDeLinha( 'Meigarom', 88, 1.90, 35, 5 )\n",
    "print( meigarom.salary() )\n",
    "print( meigarom.get_nome() )"
   ]
  },
  {
   "cell_type": "code",
   "execution_count": 179,
   "metadata": {
    "ExecuteTime": {
     "end_time": "2021-03-02T10:35:39.428002Z",
     "start_time": "2021-03-02T10:35:39.424361Z"
    }
   },
   "outputs": [
    {
     "name": "stdout",
     "output_type": "stream",
     "text": [
      "250\n",
      "Joao\n"
     ]
    }
   ],
   "source": [
    "joao = Tecnico( 'Joao', 80, 1.80, 50, 50 )\n",
    "print( joao.salary() )\n",
    "print( joao.get_nome() )"
   ]
  },
  {
   "cell_type": "code",
   "execution_count": null,
   "metadata": {},
   "outputs": [],
   "source": []
  },
  {
   "cell_type": "code",
   "execution_count": null,
   "metadata": {},
   "outputs": [],
   "source": []
  },
  {
   "cell_type": "code",
   "execution_count": null,
   "metadata": {},
   "outputs": [],
   "source": []
  },
  {
   "cell_type": "code",
   "execution_count": null,
   "metadata": {},
   "outputs": [],
   "source": []
  }
 ],
 "metadata": {
  "kernelspec": {
   "display_name": "Python 3",
   "language": "python",
   "name": "python3"
  },
  "language_info": {
   "codemirror_mode": {
    "name": "ipython",
    "version": 3
   },
   "file_extension": ".py",
   "mimetype": "text/x-python",
   "name": "python",
   "nbconvert_exporter": "python",
   "pygments_lexer": "ipython3",
   "version": "3.8.0"
  }
 },
 "nbformat": 4,
 "nbformat_minor": 4
}
